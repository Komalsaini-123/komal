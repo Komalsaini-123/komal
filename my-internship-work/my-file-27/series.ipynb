{
 "cells": [
  {
   "cell_type": "code",
   "execution_count": 57,
   "id": "aedae92f-98ff-4e01-ace5-fae7f1dbed2b",
   "metadata": {},
   "outputs": [
    {
     "name": "stdout",
     "output_type": "stream",
     "text": [
      "Requirement already satisfied: pandas in c:\\users\\komal\\miniconda3\\lib\\site-packages (2.2.3)\n",
      "Requirement already satisfied: numpy>=1.26.0 in c:\\users\\komal\\miniconda3\\lib\\site-packages (from pandas) (2.3.1)\n",
      "Requirement already satisfied: python-dateutil>=2.8.2 in c:\\users\\komal\\miniconda3\\lib\\site-packages (from pandas) (2.9.0.post0)\n",
      "Requirement already satisfied: pytz>=2020.1 in c:\\users\\komal\\miniconda3\\lib\\site-packages (from pandas) (2025.2)\n",
      "Requirement already satisfied: tzdata>=2022.7 in c:\\users\\komal\\miniconda3\\lib\\site-packages (from pandas) (2025.2)\n",
      "Requirement already satisfied: six>=1.5 in c:\\users\\komal\\miniconda3\\lib\\site-packages (from python-dateutil>=2.8.2->pandas) (1.17.0)\n"
     ]
    }
   ],
   "source": [
    "!pip install pandas \n"
   ]
  },
  {
   "cell_type": "code",
   "execution_count": 58,
   "id": "0e072ce3-f0e6-4649-9e5e-3fbd78a8ac7e",
   "metadata": {},
   "outputs": [],
   "source": [
    "import numpy as np\n",
    "import pandas as pd"
   ]
  },
  {
   "cell_type": "code",
   "execution_count": 59,
   "id": "bb88a386-6aa8-4e9b-b4a5-d26164ab9656",
   "metadata": {},
   "outputs": [
    {
     "data": {
      "text/plain": [
       "0       India\n",
       "1    Pakistan\n",
       "2         USA\n",
       "3       Nepal\n",
       "4    Srilanka\n",
       "dtype: object"
      ]
     },
     "execution_count": 59,
     "metadata": {},
     "output_type": "execute_result"
    }
   ],
   "source": [
    "# string\n",
    "country = ['India','Pakistan','USA','Nepal','Srilanka']\n",
    "\n",
    "pd.Series(country)"
   ]
  },
  {
   "cell_type": "code",
   "execution_count": 60,
   "id": "8a4c2d6f-1dec-4a12-b4c4-cd8137c0980d",
   "metadata": {},
   "outputs": [
    {
     "data": {
      "text/plain": [
       "pandas.core.series.Series"
      ]
     },
     "execution_count": 60,
     "metadata": {},
     "output_type": "execute_result"
    }
   ],
   "source": [
    "# integers\n",
    "runs = [13,24,56,78,100]\n",
    "\n",
    "runs_ser = pd.Series(runs)\n",
    "type(runs_ser)"
   ]
  },
  {
   "cell_type": "code",
   "execution_count": 61,
   "id": "2d48663a-1753-44f1-a789-e3d82c5ce242",
   "metadata": {},
   "outputs": [
    {
     "data": {
      "text/plain": [
       "maths       67\n",
       "english     57\n",
       "science     89\n",
       "hindi      100\n",
       "dtype: int64"
      ]
     },
     "execution_count": 61,
     "metadata": {},
     "output_type": "execute_result"
    }
   ],
   "source": [
    "# custom index\n",
    "marks = [67,57,89,100]\n",
    "subjects = ['maths','english','science','hindi']\n",
    "\n",
    "mark=pd.Series(marks,index=subjects)\n",
    "mark"
   ]
  },
  {
   "cell_type": "code",
   "execution_count": 62,
   "id": "d70f09b8-92da-4bab-94b0-84af30f65ed3",
   "metadata": {},
   "outputs": [
    {
     "data": {
      "text/plain": [
       "maths       67\n",
       "english     57\n",
       "science     89\n",
       "hindi      100\n",
       "Name: students marks, dtype: int64"
      ]
     },
     "execution_count": 62,
     "metadata": {},
     "output_type": "execute_result"
    }
   ],
   "source": [
    "# setting a name\n",
    "marks = pd.Series(marks,index=subjects,name='students marks')\n",
    "marks"
   ]
  },
  {
   "cell_type": "code",
   "execution_count": 63,
   "id": "7a381807-beaa-42c1-ad40-72ec8d5725cc",
   "metadata": {},
   "outputs": [
    {
     "data": {
      "text/plain": [
       "maths       67.0\n",
       "english     57.0\n",
       "science     89.0\n",
       "hindi      100.0\n",
       "hin        100.0\n",
       "hind         NaN\n",
       "Name: student1s marks, dtype: float64"
      ]
     },
     "execution_count": 63,
     "metadata": {},
     "output_type": "execute_result"
    }
   ],
   "source": [
    "marks = {\n",
    "    'maths':67,\n",
    "    'english':57,\n",
    "    'science':89,\n",
    "    'hindi':100,\n",
    "    'hin':100,\n",
    "    'hind':np.nan\n",
    "}\n",
    "\n",
    "marks_series = pd.Series(marks,name='student1s marks')\n",
    "marks_series"
   ]
  },
  {
   "cell_type": "code",
   "execution_count": 64,
   "id": "1b90fcb2-4f29-46e7-b910-00bccad48253",
   "metadata": {},
   "outputs": [
    {
     "data": {
      "text/plain": [
       "6"
      ]
     },
     "execution_count": 64,
     "metadata": {},
     "output_type": "execute_result"
    }
   ],
   "source": [
    "marks_series.size"
   ]
  },
  {
   "cell_type": "code",
   "execution_count": 65,
   "id": "47067dea-b7ee-45d6-8b4a-9325a98ade73",
   "metadata": {},
   "outputs": [
    {
     "data": {
      "text/plain": [
       "dtype('float64')"
      ]
     },
     "execution_count": 65,
     "metadata": {},
     "output_type": "execute_result"
    }
   ],
   "source": [
    "marks_series.dtype"
   ]
  },
  {
   "cell_type": "code",
   "execution_count": 66,
   "id": "b77afc67-3de1-43d7-a2eb-eb219401b846",
   "metadata": {},
   "outputs": [
    {
     "name": "stdout",
     "output_type": "stream",
     "text": [
      "<class 'pandas.core.series.Series'>\n",
      "Index: 6 entries, maths to hind\n",
      "Series name: student1s marks\n",
      "Non-Null Count  Dtype  \n",
      "--------------  -----  \n",
      "5 non-null      float64\n",
      "dtypes: float64(1)\n",
      "memory usage: 268.0+ bytes\n"
     ]
    }
   ],
   "source": [
    "marks_series.info()"
   ]
  },
  {
   "cell_type": "code",
   "execution_count": 67,
   "id": "fbbb05dc-99a6-4d93-bf08-98eda9ee945c",
   "metadata": {},
   "outputs": [
    {
     "data": {
      "text/plain": [
       "count      5.000000\n",
       "mean      82.600000\n",
       "std       19.654516\n",
       "min       57.000000\n",
       "25%       67.000000\n",
       "50%       89.000000\n",
       "75%      100.000000\n",
       "max      100.000000\n",
       "Name: student1s marks, dtype: float64"
      ]
     },
     "execution_count": 67,
     "metadata": {},
     "output_type": "execute_result"
    }
   ],
   "source": [
    "marks_series.describe()"
   ]
  },
  {
   "cell_type": "code",
   "execution_count": 68,
   "id": "3b0d731e-6ca3-4a60-b591-6ebbb3bc90cc",
   "metadata": {},
   "outputs": [
    {
     "data": {
      "text/plain": [
       "np.int64(5)"
      ]
     },
     "execution_count": 68,
     "metadata": {},
     "output_type": "execute_result"
    }
   ],
   "source": [
    "marks_series.count()"
   ]
  },
  {
   "cell_type": "code",
   "execution_count": 69,
   "id": "7c915077-acf1-4da9-85ff-e04ca7972b3c",
   "metadata": {},
   "outputs": [
    {
     "data": {
      "text/plain": [
       "4"
      ]
     },
     "execution_count": 69,
     "metadata": {},
     "output_type": "execute_result"
    }
   ],
   "source": [
    "marks_series.nunique()"
   ]
  },
  {
   "cell_type": "code",
   "execution_count": 70,
   "id": "867600a4-e21b-489d-8b1c-74aaf9159271",
   "metadata": {},
   "outputs": [
    {
     "data": {
      "text/plain": [
       "np.float64(413.0)"
      ]
     },
     "execution_count": 70,
     "metadata": {},
     "output_type": "execute_result"
    }
   ],
   "source": [
    "marks_series.sum()"
   ]
  },
  {
   "cell_type": "code",
   "execution_count": 71,
   "id": "5b80feb5-9a12-4c28-af66-b0d555ad40eb",
   "metadata": {},
   "outputs": [
    {
     "data": {
      "text/plain": [
       "57.0"
      ]
     },
     "execution_count": 71,
     "metadata": {},
     "output_type": "execute_result"
    }
   ],
   "source": [
    "marks_series.min()"
   ]
  },
  {
   "cell_type": "code",
   "execution_count": 72,
   "id": "09b27f8d-69bf-4d2a-9bfa-dc3d4cdd45f9",
   "metadata": {},
   "outputs": [
    {
     "data": {
      "text/plain": [
       "19.65451602049768"
      ]
     },
     "execution_count": 72,
     "metadata": {},
     "output_type": "execute_result"
    }
   ],
   "source": [
    "marks_series.std()"
   ]
  },
  {
   "cell_type": "code",
   "execution_count": 73,
   "id": "899924e6-98e2-4349-bf1b-3cb913ab295f",
   "metadata": {},
   "outputs": [
    {
     "data": {
      "text/plain": [
       "np.float64(89.0)"
      ]
     },
     "execution_count": 73,
     "metadata": {},
     "output_type": "execute_result"
    }
   ],
   "source": [
    "marks_series.quantile(0.50)"
   ]
  },
  {
   "cell_type": "code",
   "execution_count": 74,
   "id": "b7ef1def-0bf9-4b8d-a893-9667790c5853",
   "metadata": {},
   "outputs": [
    {
     "data": {
      "text/plain": [
       "6"
      ]
     },
     "execution_count": 74,
     "metadata": {},
     "output_type": "execute_result"
    }
   ],
   "source": [
    "marks_series.size"
   ]
  },
  {
   "cell_type": "code",
   "execution_count": 75,
   "id": "bd9fd751-47f3-4b93-b835-15b5458dc11b",
   "metadata": {},
   "outputs": [
    {
     "data": {
      "text/plain": [
       "6"
      ]
     },
     "execution_count": 75,
     "metadata": {},
     "output_type": "execute_result"
    }
   ],
   "source": [
    "# size\n",
    "marks_series.size"
   ]
  },
  {
   "cell_type": "code",
   "execution_count": 76,
   "id": "946ee8ff-7dd8-4035-bb9e-4df89509ca80",
   "metadata": {},
   "outputs": [
    {
     "data": {
      "text/plain": [
       "dtype('float64')"
      ]
     },
     "execution_count": 76,
     "metadata": {},
     "output_type": "execute_result"
    }
   ],
   "source": [
    "# dtype\n",
    "marks_series.dtype"
   ]
  },
  {
   "cell_type": "code",
   "execution_count": 77,
   "id": "aa79e3a2-98fe-453c-bd2a-0eed0848474a",
   "metadata": {},
   "outputs": [
    {
     "data": {
      "text/plain": [
       "'student1s marks'"
      ]
     },
     "execution_count": 77,
     "metadata": {},
     "output_type": "execute_result"
    }
   ],
   "source": [
    "# name\n",
    "marks_series.name"
   ]
  },
  {
   "cell_type": "code",
   "execution_count": 78,
   "id": "2cbfe519-cad1-4244-ad1a-13cd592b5a9e",
   "metadata": {},
   "outputs": [
    {
     "data": {
      "text/plain": [
       "True"
      ]
     },
     "execution_count": 78,
     "metadata": {},
     "output_type": "execute_result"
    }
   ],
   "source": [
    "# is_unique\n",
    "marks_series.is_unique\n",
    "\n",
    "pd.Series([1,2,3,4,5]).is_unique"
   ]
  },
  {
   "cell_type": "code",
   "execution_count": 79,
   "id": "89becbe8-647a-4d70-b55e-309badf053bf",
   "metadata": {},
   "outputs": [
    {
     "data": {
      "text/plain": [
       "Index(['maths', 'english', 'science', 'hindi', 'hin', 'hind'], dtype='object')"
      ]
     },
     "execution_count": 79,
     "metadata": {},
     "output_type": "execute_result"
    }
   ],
   "source": [
    "# index\n",
    "marks_series.index"
   ]
  },
  {
   "cell_type": "code",
   "execution_count": 80,
   "id": "5f280bf2-850c-4fc3-9436-65af59860181",
   "metadata": {},
   "outputs": [
    {
     "data": {
      "text/plain": [
       "RangeIndex(start=0, stop=5, step=1)"
      ]
     },
     "execution_count": 80,
     "metadata": {},
     "output_type": "execute_result"
    }
   ],
   "source": [
    "runs_ser.index"
   ]
  },
  {
   "cell_type": "code",
   "execution_count": 81,
   "id": "1774c586-87e2-466a-be5b-86647bacd918",
   "metadata": {},
   "outputs": [
    {
     "data": {
      "text/plain": [
       "array([ 67.,  57.,  89., 100., 100.,  nan])"
      ]
     },
     "execution_count": 81,
     "metadata": {},
     "output_type": "execute_result"
    }
   ],
   "source": [
    "# values\n",
    "marks_series.values"
   ]
  },
  {
   "cell_type": "code",
   "execution_count": 82,
   "id": "6431e35a-6abd-4c18-886b-023b1037cd02",
   "metadata": {},
   "outputs": [
    {
     "data": {
      "text/plain": [
       "pandas.core.frame.DataFrame"
      ]
     },
     "execution_count": 82,
     "metadata": {},
     "output_type": "execute_result"
    }
   ],
   "source": [
    "# with one col\n",
    "subs = pd.read_csv(r\"C:\\Users\\Komal\\Downloads\\subs.csv\")\n",
    "type(subs)\n"
   ]
  },
  {
   "cell_type": "code",
   "execution_count": 83,
   "id": "2907d09b-06e4-4fbf-b767-d5acdb1c1733",
   "metadata": {},
   "outputs": [
    {
     "data": {
      "text/plain": [
       "0       48\n",
       "1       57\n",
       "2       40\n",
       "3       43\n",
       "4       44\n",
       "      ... \n",
       "360    231\n",
       "361    226\n",
       "362    155\n",
       "363    144\n",
       "364    172\n",
       "Name: Subscribers gained, Length: 365, dtype: int64"
      ]
     },
     "execution_count": 83,
     "metadata": {},
     "output_type": "execute_result"
    }
   ],
   "source": [
    "subs1 = subs.squeeze()\n",
    "type(subs1)\n",
    "subs1"
   ]
  },
  {
   "cell_type": "code",
   "execution_count": 84,
   "id": "b460f152-cbf8-4144-8c03-c7f5289ac74b",
   "metadata": {},
   "outputs": [
    {
     "data": {
      "text/html": [
       "<div>\n",
       "<style scoped>\n",
       "    .dataframe tbody tr th:only-of-type {\n",
       "        vertical-align: middle;\n",
       "    }\n",
       "\n",
       "    .dataframe tbody tr th {\n",
       "        vertical-align: top;\n",
       "    }\n",
       "\n",
       "    .dataframe thead th {\n",
       "        text-align: right;\n",
       "    }\n",
       "</style>\n",
       "<table border=\"1\" class=\"dataframe\">\n",
       "  <thead>\n",
       "    <tr style=\"text-align: right;\">\n",
       "      <th></th>\n",
       "      <th>runs</th>\n",
       "    </tr>\n",
       "    <tr>\n",
       "      <th>match_no</th>\n",
       "      <th></th>\n",
       "    </tr>\n",
       "  </thead>\n",
       "  <tbody>\n",
       "    <tr>\n",
       "      <th>1</th>\n",
       "      <td>1</td>\n",
       "    </tr>\n",
       "    <tr>\n",
       "      <th>2</th>\n",
       "      <td>23</td>\n",
       "    </tr>\n",
       "    <tr>\n",
       "      <th>3</th>\n",
       "      <td>13</td>\n",
       "    </tr>\n",
       "    <tr>\n",
       "      <th>4</th>\n",
       "      <td>12</td>\n",
       "    </tr>\n",
       "    <tr>\n",
       "      <th>5</th>\n",
       "      <td>1</td>\n",
       "    </tr>\n",
       "    <tr>\n",
       "      <th>...</th>\n",
       "      <td>...</td>\n",
       "    </tr>\n",
       "    <tr>\n",
       "      <th>211</th>\n",
       "      <td>0</td>\n",
       "    </tr>\n",
       "    <tr>\n",
       "      <th>212</th>\n",
       "      <td>20</td>\n",
       "    </tr>\n",
       "    <tr>\n",
       "      <th>213</th>\n",
       "      <td>73</td>\n",
       "    </tr>\n",
       "    <tr>\n",
       "      <th>214</th>\n",
       "      <td>25</td>\n",
       "    </tr>\n",
       "    <tr>\n",
       "      <th>215</th>\n",
       "      <td>7</td>\n",
       "    </tr>\n",
       "  </tbody>\n",
       "</table>\n",
       "<p>215 rows × 1 columns</p>\n",
       "</div>"
      ],
      "text/plain": [
       "          runs\n",
       "match_no      \n",
       "1            1\n",
       "2           23\n",
       "3           13\n",
       "4           12\n",
       "5            1\n",
       "...        ...\n",
       "211          0\n",
       "212         20\n",
       "213         73\n",
       "214         25\n",
       "215          7\n",
       "\n",
       "[215 rows x 1 columns]"
      ]
     },
     "execution_count": 84,
     "metadata": {},
     "output_type": "execute_result"
    }
   ],
   "source": [
    "# with 2 cols\n",
    "vk = pd.read_csv(r\"C:\\Users\\Komal\\Downloads\\kohli_ipl.csv\",index_col='match_no')\n",
    "vk"
   ]
  },
  {
   "cell_type": "code",
   "execution_count": 85,
   "id": "66f50233-c59d-40e0-ade5-a02f51b743e7",
   "metadata": {},
   "outputs": [
    {
     "data": {
      "text/html": [
       "<div>\n",
       "<style scoped>\n",
       "    .dataframe tbody tr th:only-of-type {\n",
       "        vertical-align: middle;\n",
       "    }\n",
       "\n",
       "    .dataframe tbody tr th {\n",
       "        vertical-align: top;\n",
       "    }\n",
       "\n",
       "    .dataframe thead th {\n",
       "        text-align: right;\n",
       "    }\n",
       "</style>\n",
       "<table border=\"1\" class=\"dataframe\">\n",
       "  <thead>\n",
       "    <tr style=\"text-align: right;\">\n",
       "      <th></th>\n",
       "      <th>runs</th>\n",
       "    </tr>\n",
       "    <tr>\n",
       "      <th>match_no</th>\n",
       "      <th></th>\n",
       "    </tr>\n",
       "  </thead>\n",
       "  <tbody>\n",
       "    <tr>\n",
       "      <th>1</th>\n",
       "      <td>1</td>\n",
       "    </tr>\n",
       "    <tr>\n",
       "      <th>2</th>\n",
       "      <td>23</td>\n",
       "    </tr>\n",
       "    <tr>\n",
       "      <th>3</th>\n",
       "      <td>13</td>\n",
       "    </tr>\n",
       "    <tr>\n",
       "      <th>4</th>\n",
       "      <td>12</td>\n",
       "    </tr>\n",
       "    <tr>\n",
       "      <th>5</th>\n",
       "      <td>1</td>\n",
       "    </tr>\n",
       "    <tr>\n",
       "      <th>...</th>\n",
       "      <td>...</td>\n",
       "    </tr>\n",
       "    <tr>\n",
       "      <th>211</th>\n",
       "      <td>0</td>\n",
       "    </tr>\n",
       "    <tr>\n",
       "      <th>212</th>\n",
       "      <td>20</td>\n",
       "    </tr>\n",
       "    <tr>\n",
       "      <th>213</th>\n",
       "      <td>73</td>\n",
       "    </tr>\n",
       "    <tr>\n",
       "      <th>214</th>\n",
       "      <td>25</td>\n",
       "    </tr>\n",
       "    <tr>\n",
       "      <th>215</th>\n",
       "      <td>7</td>\n",
       "    </tr>\n",
       "  </tbody>\n",
       "</table>\n",
       "<p>215 rows × 1 columns</p>\n",
       "</div>"
      ],
      "text/plain": [
       "          runs\n",
       "match_no      \n",
       "1            1\n",
       "2           23\n",
       "3           13\n",
       "4           12\n",
       "5            1\n",
       "...        ...\n",
       "211          0\n",
       "212         20\n",
       "213         73\n",
       "214         25\n",
       "215          7\n",
       "\n",
       "[215 rows x 1 columns]"
      ]
     },
     "execution_count": 85,
     "metadata": {},
     "output_type": "execute_result"
    }
   ],
   "source": [
    "vk.squeeze()\n",
    "vk"
   ]
  },
  {
   "cell_type": "code",
   "execution_count": 86,
   "id": "7ef7b4d9-ed12-46f3-bdd9-d1c8eeeb2d45",
   "metadata": {},
   "outputs": [
    {
     "data": {
      "text/html": [
       "<div>\n",
       "<style scoped>\n",
       "    .dataframe tbody tr th:only-of-type {\n",
       "        vertical-align: middle;\n",
       "    }\n",
       "\n",
       "    .dataframe tbody tr th {\n",
       "        vertical-align: top;\n",
       "    }\n",
       "\n",
       "    .dataframe thead th {\n",
       "        text-align: right;\n",
       "    }\n",
       "</style>\n",
       "<table border=\"1\" class=\"dataframe\">\n",
       "  <thead>\n",
       "    <tr style=\"text-align: right;\">\n",
       "      <th></th>\n",
       "      <th>lead</th>\n",
       "    </tr>\n",
       "    <tr>\n",
       "      <th>movie</th>\n",
       "      <th></th>\n",
       "    </tr>\n",
       "  </thead>\n",
       "  <tbody>\n",
       "    <tr>\n",
       "      <th>Uri: The Surgical Strike</th>\n",
       "      <td>Vicky Kaushal</td>\n",
       "    </tr>\n",
       "    <tr>\n",
       "      <th>Battalion 609</th>\n",
       "      <td>Vicky Ahuja</td>\n",
       "    </tr>\n",
       "    <tr>\n",
       "      <th>The Accidental Prime Minister (film)</th>\n",
       "      <td>Anupam Kher</td>\n",
       "    </tr>\n",
       "    <tr>\n",
       "      <th>Why Cheat India</th>\n",
       "      <td>Emraan Hashmi</td>\n",
       "    </tr>\n",
       "    <tr>\n",
       "      <th>Evening Shadows</th>\n",
       "      <td>Mona Ambegaonkar</td>\n",
       "    </tr>\n",
       "    <tr>\n",
       "      <th>...</th>\n",
       "      <td>...</td>\n",
       "    </tr>\n",
       "    <tr>\n",
       "      <th>Hum Tumhare Hain Sanam</th>\n",
       "      <td>Shah Rukh Khan</td>\n",
       "    </tr>\n",
       "    <tr>\n",
       "      <th>Aankhen (2002 film)</th>\n",
       "      <td>Amitabh Bachchan</td>\n",
       "    </tr>\n",
       "    <tr>\n",
       "      <th>Saathiya (film)</th>\n",
       "      <td>Vivek Oberoi</td>\n",
       "    </tr>\n",
       "    <tr>\n",
       "      <th>Company (film)</th>\n",
       "      <td>Ajay Devgn</td>\n",
       "    </tr>\n",
       "    <tr>\n",
       "      <th>Awara Paagal Deewana</th>\n",
       "      <td>Akshay Kumar</td>\n",
       "    </tr>\n",
       "  </tbody>\n",
       "</table>\n",
       "<p>1500 rows × 1 columns</p>\n",
       "</div>"
      ],
      "text/plain": [
       "                                                  lead\n",
       "movie                                                 \n",
       "Uri: The Surgical Strike                 Vicky Kaushal\n",
       "Battalion 609                              Vicky Ahuja\n",
       "The Accidental Prime Minister (film)       Anupam Kher\n",
       "Why Cheat India                          Emraan Hashmi\n",
       "Evening Shadows                       Mona Ambegaonkar\n",
       "...                                                ...\n",
       "Hum Tumhare Hain Sanam                  Shah Rukh Khan\n",
       "Aankhen (2002 film)                   Amitabh Bachchan\n",
       "Saathiya (film)                           Vivek Oberoi\n",
       "Company (film)                              Ajay Devgn\n",
       "Awara Paagal Deewana                      Akshay Kumar\n",
       "\n",
       "[1500 rows x 1 columns]"
      ]
     },
     "execution_count": 86,
     "metadata": {},
     "output_type": "execute_result"
    }
   ],
   "source": [
    "movies = pd.read_csv(r\"C:\\Users\\Komal\\Downloads\\bollywood - bollywood.csv\",index_col='movie')\n",
    "movies"
   ]
  },
  {
   "cell_type": "code",
   "execution_count": 87,
   "id": "f0ee493b-ad02-40de-95a9-1698ca21d11c",
   "metadata": {},
   "outputs": [
    {
     "data": {
      "text/plain": [
       "movie\n",
       "Uri: The Surgical Strike                   Vicky Kaushal\n",
       "Battalion 609                                Vicky Ahuja\n",
       "The Accidental Prime Minister (film)         Anupam Kher\n",
       "Why Cheat India                            Emraan Hashmi\n",
       "Evening Shadows                         Mona Ambegaonkar\n",
       "                                              ...       \n",
       "Hum Tumhare Hain Sanam                    Shah Rukh Khan\n",
       "Aankhen (2002 film)                     Amitabh Bachchan\n",
       "Saathiya (film)                             Vivek Oberoi\n",
       "Company (film)                                Ajay Devgn\n",
       "Awara Paagal Deewana                        Akshay Kumar\n",
       "Name: lead, Length: 1500, dtype: object"
      ]
     },
     "execution_count": 87,
     "metadata": {},
     "output_type": "execute_result"
    }
   ],
   "source": [
    "movies.squeeze(axis=1)"
   ]
  },
  {
   "cell_type": "code",
   "execution_count": 88,
   "id": "e69fe2ce-4b85-457f-b7ad-751f6e838258",
   "metadata": {},
   "outputs": [
    {
     "data": {
      "text/html": [
       "<div>\n",
       "<style scoped>\n",
       "    .dataframe tbody tr th:only-of-type {\n",
       "        vertical-align: middle;\n",
       "    }\n",
       "\n",
       "    .dataframe tbody tr th {\n",
       "        vertical-align: top;\n",
       "    }\n",
       "\n",
       "    .dataframe thead th {\n",
       "        text-align: right;\n",
       "    }\n",
       "</style>\n",
       "<table border=\"1\" class=\"dataframe\">\n",
       "  <thead>\n",
       "    <tr style=\"text-align: right;\">\n",
       "      <th></th>\n",
       "      <th>Subscribers gained</th>\n",
       "    </tr>\n",
       "  </thead>\n",
       "  <tbody>\n",
       "    <tr>\n",
       "      <th>0</th>\n",
       "      <td>48</td>\n",
       "    </tr>\n",
       "    <tr>\n",
       "      <th>1</th>\n",
       "      <td>57</td>\n",
       "    </tr>\n",
       "    <tr>\n",
       "      <th>2</th>\n",
       "      <td>40</td>\n",
       "    </tr>\n",
       "    <tr>\n",
       "      <th>3</th>\n",
       "      <td>43</td>\n",
       "    </tr>\n",
       "    <tr>\n",
       "      <th>4</th>\n",
       "      <td>44</td>\n",
       "    </tr>\n",
       "    <tr>\n",
       "      <th>5</th>\n",
       "      <td>46</td>\n",
       "    </tr>\n",
       "    <tr>\n",
       "      <th>6</th>\n",
       "      <td>33</td>\n",
       "    </tr>\n",
       "    <tr>\n",
       "      <th>7</th>\n",
       "      <td>40</td>\n",
       "    </tr>\n",
       "    <tr>\n",
       "      <th>8</th>\n",
       "      <td>44</td>\n",
       "    </tr>\n",
       "    <tr>\n",
       "      <th>9</th>\n",
       "      <td>74</td>\n",
       "    </tr>\n",
       "  </tbody>\n",
       "</table>\n",
       "</div>"
      ],
      "text/plain": [
       "   Subscribers gained\n",
       "0                  48\n",
       "1                  57\n",
       "2                  40\n",
       "3                  43\n",
       "4                  44\n",
       "5                  46\n",
       "6                  33\n",
       "7                  40\n",
       "8                  44\n",
       "9                  74"
      ]
     },
     "execution_count": 88,
     "metadata": {},
     "output_type": "execute_result"
    }
   ],
   "source": [
    "\n",
    "# head and tail\n",
    "subs.head(10)"
   ]
  },
  {
   "cell_type": "code",
   "execution_count": 89,
   "id": "8270d562-8141-4b33-b20b-623df353756a",
   "metadata": {},
   "outputs": [
    {
     "data": {
      "text/html": [
       "<div>\n",
       "<style scoped>\n",
       "    .dataframe tbody tr th:only-of-type {\n",
       "        vertical-align: middle;\n",
       "    }\n",
       "\n",
       "    .dataframe tbody tr th {\n",
       "        vertical-align: top;\n",
       "    }\n",
       "\n",
       "    .dataframe thead th {\n",
       "        text-align: right;\n",
       "    }\n",
       "</style>\n",
       "<table border=\"1\" class=\"dataframe\">\n",
       "  <thead>\n",
       "    <tr style=\"text-align: right;\">\n",
       "      <th></th>\n",
       "      <th>runs</th>\n",
       "    </tr>\n",
       "    <tr>\n",
       "      <th>match_no</th>\n",
       "      <th></th>\n",
       "    </tr>\n",
       "  </thead>\n",
       "  <tbody>\n",
       "    <tr>\n",
       "      <th>1</th>\n",
       "      <td>1</td>\n",
       "    </tr>\n",
       "    <tr>\n",
       "      <th>2</th>\n",
       "      <td>23</td>\n",
       "    </tr>\n",
       "    <tr>\n",
       "      <th>3</th>\n",
       "      <td>13</td>\n",
       "    </tr>\n",
       "  </tbody>\n",
       "</table>\n",
       "</div>"
      ],
      "text/plain": [
       "          runs\n",
       "match_no      \n",
       "1            1\n",
       "2           23\n",
       "3           13"
      ]
     },
     "execution_count": 89,
     "metadata": {},
     "output_type": "execute_result"
    }
   ],
   "source": [
    "vk.head(3)"
   ]
  },
  {
   "cell_type": "code",
   "execution_count": 90,
   "id": "4758c72c-04f1-4359-b7f2-8a16d708267f",
   "metadata": {},
   "outputs": [
    {
     "data": {
      "text/html": [
       "<div>\n",
       "<style scoped>\n",
       "    .dataframe tbody tr th:only-of-type {\n",
       "        vertical-align: middle;\n",
       "    }\n",
       "\n",
       "    .dataframe tbody tr th {\n",
       "        vertical-align: top;\n",
       "    }\n",
       "\n",
       "    .dataframe thead th {\n",
       "        text-align: right;\n",
       "    }\n",
       "</style>\n",
       "<table border=\"1\" class=\"dataframe\">\n",
       "  <thead>\n",
       "    <tr style=\"text-align: right;\">\n",
       "      <th></th>\n",
       "      <th>runs</th>\n",
       "    </tr>\n",
       "    <tr>\n",
       "      <th>match_no</th>\n",
       "      <th></th>\n",
       "    </tr>\n",
       "  </thead>\n",
       "  <tbody>\n",
       "    <tr>\n",
       "      <th>206</th>\n",
       "      <td>0</td>\n",
       "    </tr>\n",
       "    <tr>\n",
       "      <th>207</th>\n",
       "      <td>0</td>\n",
       "    </tr>\n",
       "    <tr>\n",
       "      <th>208</th>\n",
       "      <td>9</td>\n",
       "    </tr>\n",
       "    <tr>\n",
       "      <th>209</th>\n",
       "      <td>58</td>\n",
       "    </tr>\n",
       "    <tr>\n",
       "      <th>210</th>\n",
       "      <td>30</td>\n",
       "    </tr>\n",
       "    <tr>\n",
       "      <th>211</th>\n",
       "      <td>0</td>\n",
       "    </tr>\n",
       "    <tr>\n",
       "      <th>212</th>\n",
       "      <td>20</td>\n",
       "    </tr>\n",
       "    <tr>\n",
       "      <th>213</th>\n",
       "      <td>73</td>\n",
       "    </tr>\n",
       "    <tr>\n",
       "      <th>214</th>\n",
       "      <td>25</td>\n",
       "    </tr>\n",
       "    <tr>\n",
       "      <th>215</th>\n",
       "      <td>7</td>\n",
       "    </tr>\n",
       "  </tbody>\n",
       "</table>\n",
       "</div>"
      ],
      "text/plain": [
       "          runs\n",
       "match_no      \n",
       "206          0\n",
       "207          0\n",
       "208          9\n",
       "209         58\n",
       "210         30\n",
       "211          0\n",
       "212         20\n",
       "213         73\n",
       "214         25\n",
       "215          7"
      ]
     },
     "execution_count": 90,
     "metadata": {},
     "output_type": "execute_result"
    }
   ],
   "source": [
    "vk.tail(10)"
   ]
  },
  {
   "cell_type": "code",
   "execution_count": 91,
   "id": "c3279530-c66c-4c63-9385-2ff8761ede0b",
   "metadata": {},
   "outputs": [
    {
     "data": {
      "text/html": [
       "<div>\n",
       "<style scoped>\n",
       "    .dataframe tbody tr th:only-of-type {\n",
       "        vertical-align: middle;\n",
       "    }\n",
       "\n",
       "    .dataframe tbody tr th {\n",
       "        vertical-align: top;\n",
       "    }\n",
       "\n",
       "    .dataframe thead th {\n",
       "        text-align: right;\n",
       "    }\n",
       "</style>\n",
       "<table border=\"1\" class=\"dataframe\">\n",
       "  <thead>\n",
       "    <tr style=\"text-align: right;\">\n",
       "      <th></th>\n",
       "      <th>lead</th>\n",
       "    </tr>\n",
       "    <tr>\n",
       "      <th>movie</th>\n",
       "      <th></th>\n",
       "    </tr>\n",
       "  </thead>\n",
       "  <tbody>\n",
       "    <tr>\n",
       "      <th>Brothers (2015 film)</th>\n",
       "      <td>Akshay Kumar</td>\n",
       "    </tr>\n",
       "    <tr>\n",
       "      <th>Phobia (2016 film)</th>\n",
       "      <td>Radhika Apte</td>\n",
       "    </tr>\n",
       "    <tr>\n",
       "      <th>Jo Hum Chahein</th>\n",
       "      <td>Sunny Gill</td>\n",
       "    </tr>\n",
       "    <tr>\n",
       "      <th>Right Here Right Now (film)</th>\n",
       "      <td>Ankit</td>\n",
       "    </tr>\n",
       "    <tr>\n",
       "      <th>Khatta Meetha (2010 film)</th>\n",
       "      <td>Akshay Kumar</td>\n",
       "    </tr>\n",
       "  </tbody>\n",
       "</table>\n",
       "</div>"
      ],
      "text/plain": [
       "                                     lead\n",
       "movie                                    \n",
       "Brothers (2015 film)         Akshay Kumar\n",
       "Phobia (2016 film)           Radhika Apte\n",
       "Jo Hum Chahein                 Sunny Gill\n",
       "Right Here Right Now (film)         Ankit\n",
       "Khatta Meetha (2010 film)    Akshay Kumar"
      ]
     },
     "execution_count": 91,
     "metadata": {},
     "output_type": "execute_result"
    }
   ],
   "source": [
    "# sample\n",
    "movies.sample(5)"
   ]
  },
  {
   "cell_type": "code",
   "execution_count": 92,
   "id": "c86de15e-8037-4103-98ca-ddf9855d224e",
   "metadata": {},
   "outputs": [
    {
     "data": {
      "text/plain": [
       "lead            \n",
       "Akshay Kumar        48\n",
       "Amitabh Bachchan    45\n",
       "Ajay Devgn          38\n",
       "Salman Khan         31\n",
       "Sanjay Dutt         26\n",
       "                    ..\n",
       "Kashmira Shah        1\n",
       "Kartik Elangovan     1\n",
       "Karisma Kapoor       1\n",
       "Karan Sharma         1\n",
       "Zulfi Sayed          1\n",
       "Name: count, Length: 566, dtype: int64"
      ]
     },
     "execution_count": 92,
     "metadata": {},
     "output_type": "execute_result"
    }
   ],
   "source": [
    "# value_counts -> movies\n",
    "movies.value_counts()"
   ]
  },
  {
   "cell_type": "code",
   "execution_count": 93,
   "id": "d877d9f5-6990-4ee3-8430-bda4c8f4d5a2",
   "metadata": {},
   "outputs": [
    {
     "data": {
      "text/html": [
       "<div>\n",
       "<style scoped>\n",
       "    .dataframe tbody tr th:only-of-type {\n",
       "        vertical-align: middle;\n",
       "    }\n",
       "\n",
       "    .dataframe tbody tr th {\n",
       "        vertical-align: top;\n",
       "    }\n",
       "\n",
       "    .dataframe thead th {\n",
       "        text-align: right;\n",
       "    }\n",
       "</style>\n",
       "<table border=\"1\" class=\"dataframe\">\n",
       "  <thead>\n",
       "    <tr style=\"text-align: right;\">\n",
       "      <th></th>\n",
       "      <th>runs</th>\n",
       "    </tr>\n",
       "    <tr>\n",
       "      <th>match_no</th>\n",
       "      <th></th>\n",
       "    </tr>\n",
       "  </thead>\n",
       "  <tbody>\n",
       "    <tr>\n",
       "      <th>128</th>\n",
       "      <td>113</td>\n",
       "    </tr>\n",
       "    <tr>\n",
       "      <th>126</th>\n",
       "      <td>109</td>\n",
       "    </tr>\n",
       "    <tr>\n",
       "      <th>123</th>\n",
       "      <td>108</td>\n",
       "    </tr>\n",
       "    <tr>\n",
       "      <th>164</th>\n",
       "      <td>100</td>\n",
       "    </tr>\n",
       "    <tr>\n",
       "      <th>120</th>\n",
       "      <td>100</td>\n",
       "    </tr>\n",
       "    <tr>\n",
       "      <th>...</th>\n",
       "      <td>...</td>\n",
       "    </tr>\n",
       "    <tr>\n",
       "      <th>93</th>\n",
       "      <td>0</td>\n",
       "    </tr>\n",
       "    <tr>\n",
       "      <th>211</th>\n",
       "      <td>0</td>\n",
       "    </tr>\n",
       "    <tr>\n",
       "      <th>130</th>\n",
       "      <td>0</td>\n",
       "    </tr>\n",
       "    <tr>\n",
       "      <th>8</th>\n",
       "      <td>0</td>\n",
       "    </tr>\n",
       "    <tr>\n",
       "      <th>135</th>\n",
       "      <td>0</td>\n",
       "    </tr>\n",
       "  </tbody>\n",
       "</table>\n",
       "<p>215 rows × 1 columns</p>\n",
       "</div>"
      ],
      "text/plain": [
       "          runs\n",
       "match_no      \n",
       "128        113\n",
       "126        109\n",
       "123        108\n",
       "164        100\n",
       "120        100\n",
       "...        ...\n",
       "93           0\n",
       "211          0\n",
       "130          0\n",
       "8            0\n",
       "135          0\n",
       "\n",
       "[215 rows x 1 columns]"
      ]
     },
     "execution_count": 93,
     "metadata": {},
     "output_type": "execute_result"
    }
   ],
   "source": [
    "# sort_values -> inplace #.head(1).values[0]\n",
    "vk.sort_values(ascending=False,by='runs')"
   ]
  },
  {
   "cell_type": "code",
   "execution_count": 94,
   "id": "94aa8045-866a-4974-a5ba-f2d259891dd6",
   "metadata": {},
   "outputs": [
    {
     "data": {
      "text/html": [
       "<div>\n",
       "<style scoped>\n",
       "    .dataframe tbody tr th:only-of-type {\n",
       "        vertical-align: middle;\n",
       "    }\n",
       "\n",
       "    .dataframe tbody tr th {\n",
       "        vertical-align: top;\n",
       "    }\n",
       "\n",
       "    .dataframe thead th {\n",
       "        text-align: right;\n",
       "    }\n",
       "</style>\n",
       "<table border=\"1\" class=\"dataframe\">\n",
       "  <thead>\n",
       "    <tr style=\"text-align: right;\">\n",
       "      <th></th>\n",
       "      <th>runs</th>\n",
       "    </tr>\n",
       "    <tr>\n",
       "      <th>match_no</th>\n",
       "      <th></th>\n",
       "    </tr>\n",
       "  </thead>\n",
       "  <tbody>\n",
       "    <tr>\n",
       "      <th>1</th>\n",
       "      <td>1</td>\n",
       "    </tr>\n",
       "    <tr>\n",
       "      <th>2</th>\n",
       "      <td>23</td>\n",
       "    </tr>\n",
       "    <tr>\n",
       "      <th>3</th>\n",
       "      <td>13</td>\n",
       "    </tr>\n",
       "    <tr>\n",
       "      <th>4</th>\n",
       "      <td>12</td>\n",
       "    </tr>\n",
       "    <tr>\n",
       "      <th>5</th>\n",
       "      <td>1</td>\n",
       "    </tr>\n",
       "    <tr>\n",
       "      <th>...</th>\n",
       "      <td>...</td>\n",
       "    </tr>\n",
       "    <tr>\n",
       "      <th>211</th>\n",
       "      <td>0</td>\n",
       "    </tr>\n",
       "    <tr>\n",
       "      <th>212</th>\n",
       "      <td>20</td>\n",
       "    </tr>\n",
       "    <tr>\n",
       "      <th>213</th>\n",
       "      <td>73</td>\n",
       "    </tr>\n",
       "    <tr>\n",
       "      <th>214</th>\n",
       "      <td>25</td>\n",
       "    </tr>\n",
       "    <tr>\n",
       "      <th>215</th>\n",
       "      <td>7</td>\n",
       "    </tr>\n",
       "  </tbody>\n",
       "</table>\n",
       "<p>215 rows × 1 columns</p>\n",
       "</div>"
      ],
      "text/plain": [
       "          runs\n",
       "match_no      \n",
       "1            1\n",
       "2           23\n",
       "3           13\n",
       "4           12\n",
       "5            1\n",
       "...        ...\n",
       "211          0\n",
       "212         20\n",
       "213         73\n",
       "214         25\n",
       "215          7\n",
       "\n",
       "[215 rows x 1 columns]"
      ]
     },
     "execution_count": 94,
     "metadata": {},
     "output_type": "execute_result"
    }
   ],
   "source": [
    "vk"
   ]
  },
  {
   "cell_type": "code",
   "execution_count": 95,
   "id": "9f830377-1d6b-4fa1-ac2b-31f4461e5197",
   "metadata": {},
   "outputs": [
    {
     "data": {
      "text/html": [
       "<div>\n",
       "<style scoped>\n",
       "    .dataframe tbody tr th:only-of-type {\n",
       "        vertical-align: middle;\n",
       "    }\n",
       "\n",
       "    .dataframe tbody tr th {\n",
       "        vertical-align: top;\n",
       "    }\n",
       "\n",
       "    .dataframe thead th {\n",
       "        text-align: right;\n",
       "    }\n",
       "</style>\n",
       "<table border=\"1\" class=\"dataframe\">\n",
       "  <thead>\n",
       "    <tr style=\"text-align: right;\">\n",
       "      <th></th>\n",
       "      <th>lead</th>\n",
       "    </tr>\n",
       "    <tr>\n",
       "      <th>movie</th>\n",
       "      <th></th>\n",
       "    </tr>\n",
       "  </thead>\n",
       "  <tbody>\n",
       "    <tr>\n",
       "      <th>Zor Lagaa Ke...Haiya!</th>\n",
       "      <td>Meghan Jadhav</td>\n",
       "    </tr>\n",
       "    <tr>\n",
       "      <th>Zokkomon</th>\n",
       "      <td>Darsheel Safary</td>\n",
       "    </tr>\n",
       "    <tr>\n",
       "      <th>Zindagi Tere Naam</th>\n",
       "      <td>Mithun Chakraborty</td>\n",
       "    </tr>\n",
       "    <tr>\n",
       "      <th>Zindagi Na Milegi Dobara</th>\n",
       "      <td>Hrithik Roshan</td>\n",
       "    </tr>\n",
       "    <tr>\n",
       "      <th>Zindagi 50-50</th>\n",
       "      <td>Veena Malik</td>\n",
       "    </tr>\n",
       "    <tr>\n",
       "      <th>...</th>\n",
       "      <td>...</td>\n",
       "    </tr>\n",
       "    <tr>\n",
       "      <th>2 States (2014 film)</th>\n",
       "      <td>Arjun Kapoor</td>\n",
       "    </tr>\n",
       "    <tr>\n",
       "      <th>1971 (2007 film)</th>\n",
       "      <td>Manoj Bajpayee</td>\n",
       "    </tr>\n",
       "    <tr>\n",
       "      <th>1920: The Evil Returns</th>\n",
       "      <td>Vicky Ahuja</td>\n",
       "    </tr>\n",
       "    <tr>\n",
       "      <th>1920: London</th>\n",
       "      <td>Sharman Joshi</td>\n",
       "    </tr>\n",
       "    <tr>\n",
       "      <th>1920 (film)</th>\n",
       "      <td>Rajniesh Duggall</td>\n",
       "    </tr>\n",
       "  </tbody>\n",
       "</table>\n",
       "<p>1500 rows × 1 columns</p>\n",
       "</div>"
      ],
      "text/plain": [
       "                                        lead\n",
       "movie                                       \n",
       "Zor Lagaa Ke...Haiya!          Meghan Jadhav\n",
       "Zokkomon                     Darsheel Safary\n",
       "Zindagi Tere Naam         Mithun Chakraborty\n",
       "Zindagi Na Milegi Dobara      Hrithik Roshan\n",
       "Zindagi 50-50                    Veena Malik\n",
       "...                                      ...\n",
       "2 States (2014 film)            Arjun Kapoor\n",
       "1971 (2007 film)              Manoj Bajpayee\n",
       "1920: The Evil Returns           Vicky Ahuja\n",
       "1920: London                   Sharman Joshi\n",
       "1920 (film)                 Rajniesh Duggall\n",
       "\n",
       "[1500 rows x 1 columns]"
      ]
     },
     "execution_count": 95,
     "metadata": {},
     "output_type": "execute_result"
    }
   ],
   "source": [
    "movies.sort_index(ascending=False,inplace=True)\n",
    "movies"
   ]
  },
  {
   "cell_type": "code",
   "execution_count": 124,
   "id": "dee15d29-139f-4bae-bc78-5f28f818075f",
   "metadata": {},
   "outputs": [
    {
     "data": {
      "text/html": [
       "<div>\n",
       "<style scoped>\n",
       "    .dataframe tbody tr th:only-of-type {\n",
       "        vertical-align: middle;\n",
       "    }\n",
       "\n",
       "    .dataframe tbody tr th {\n",
       "        vertical-align: top;\n",
       "    }\n",
       "\n",
       "    .dataframe thead th {\n",
       "        text-align: right;\n",
       "    }\n",
       "</style>\n",
       "<table border=\"1\" class=\"dataframe\">\n",
       "  <thead>\n",
       "    <tr style=\"text-align: right;\">\n",
       "      <th></th>\n",
       "      <th>runs</th>\n",
       "    </tr>\n",
       "    <tr>\n",
       "      <th>match_no</th>\n",
       "      <th></th>\n",
       "    </tr>\n",
       "  </thead>\n",
       "  <tbody>\n",
       "    <tr>\n",
       "      <th>87</th>\n",
       "      <td>0</td>\n",
       "    </tr>\n",
       "    <tr>\n",
       "      <th>211</th>\n",
       "      <td>0</td>\n",
       "    </tr>\n",
       "    <tr>\n",
       "      <th>207</th>\n",
       "      <td>0</td>\n",
       "    </tr>\n",
       "    <tr>\n",
       "      <th>206</th>\n",
       "      <td>0</td>\n",
       "    </tr>\n",
       "    <tr>\n",
       "      <th>91</th>\n",
       "      <td>0</td>\n",
       "    </tr>\n",
       "    <tr>\n",
       "      <th>...</th>\n",
       "      <td>...</td>\n",
       "    </tr>\n",
       "    <tr>\n",
       "      <th>164</th>\n",
       "      <td>100</td>\n",
       "    </tr>\n",
       "    <tr>\n",
       "      <th>120</th>\n",
       "      <td>100</td>\n",
       "    </tr>\n",
       "    <tr>\n",
       "      <th>123</th>\n",
       "      <td>108</td>\n",
       "    </tr>\n",
       "    <tr>\n",
       "      <th>126</th>\n",
       "      <td>109</td>\n",
       "    </tr>\n",
       "    <tr>\n",
       "      <th>128</th>\n",
       "      <td>113</td>\n",
       "    </tr>\n",
       "  </tbody>\n",
       "</table>\n",
       "<p>215 rows × 1 columns</p>\n",
       "</div>"
      ],
      "text/plain": [
       "          runs\n",
       "match_no      \n",
       "87           0\n",
       "211          0\n",
       "207          0\n",
       "206          0\n",
       "91           0\n",
       "...        ...\n",
       "164        100\n",
       "120        100\n",
       "123        108\n",
       "126        109\n",
       "128        113\n",
       "\n",
       "[215 rows x 1 columns]"
      ]
     },
     "execution_count": 124,
     "metadata": {},
     "output_type": "execute_result"
    }
   ],
   "source": [
    "vk.sort_values(inplace=True,by='runs')\n",
    "vk.count()\n",
    "vk"
   ]
  },
  {
   "cell_type": "code",
   "execution_count": 97,
   "id": "e3ce6bc2-e43f-418d-9a8c-5d47c5ffff54",
   "metadata": {},
   "outputs": [
    {
     "data": {
      "text/plain": [
       "Subscribers gained    49510\n",
       "dtype: int64"
      ]
     },
     "execution_count": 97,
     "metadata": {},
     "output_type": "execute_result"
    }
   ],
   "source": [
    "subs.sum()"
   ]
  },
  {
   "cell_type": "code",
   "execution_count": 98,
   "id": "a0ba05e8-cafb-4706-a7f9-98a5cbfd7202",
   "metadata": {},
   "outputs": [
    {
     "name": "stdout",
     "output_type": "stream",
     "text": [
      "runs    24.0\n",
      "dtype: float64\n",
      "           lead\n",
      "0  Akshay Kumar\n",
      "Subscribers gained    62.675023\n",
      "dtype: float64\n",
      "runs    688.002478\n",
      "dtype: float64\n"
     ]
    }
   ],
   "source": [
    "# mean -> median -> mode -> std -> var\n",
    "subs.mean()\n",
    "print(vk.median())\n",
    "print(movies.mode())\n",
    "print(subs.std())\n",
    "print(vk.var())"
   ]
  },
  {
   "cell_type": "code",
   "execution_count": 99,
   "id": "faef2878-7c02-4f9f-85a6-bfbf03bbb207",
   "metadata": {},
   "outputs": [
    {
     "data": {
      "text/plain": [
       "Subscribers gained    396\n",
       "dtype: int64"
      ]
     },
     "execution_count": 99,
     "metadata": {},
     "output_type": "execute_result"
    }
   ],
   "source": [
    "# min/max\n",
    "subs.max()"
   ]
  },
  {
   "cell_type": "code",
   "execution_count": 100,
   "id": "cf50e8b3-7e01-4093-9303-84a7ad1eb561",
   "metadata": {},
   "outputs": [
    {
     "data": {
      "text/html": [
       "<div>\n",
       "<style scoped>\n",
       "    .dataframe tbody tr th:only-of-type {\n",
       "        vertical-align: middle;\n",
       "    }\n",
       "\n",
       "    .dataframe tbody tr th {\n",
       "        vertical-align: top;\n",
       "    }\n",
       "\n",
       "    .dataframe thead th {\n",
       "        text-align: right;\n",
       "    }\n",
       "</style>\n",
       "<table border=\"1\" class=\"dataframe\">\n",
       "  <thead>\n",
       "    <tr style=\"text-align: right;\">\n",
       "      <th></th>\n",
       "      <th>Subscribers gained</th>\n",
       "    </tr>\n",
       "  </thead>\n",
       "  <tbody>\n",
       "    <tr>\n",
       "      <th>count</th>\n",
       "      <td>365.000000</td>\n",
       "    </tr>\n",
       "    <tr>\n",
       "      <th>mean</th>\n",
       "      <td>135.643836</td>\n",
       "    </tr>\n",
       "    <tr>\n",
       "      <th>std</th>\n",
       "      <td>62.675023</td>\n",
       "    </tr>\n",
       "    <tr>\n",
       "      <th>min</th>\n",
       "      <td>33.000000</td>\n",
       "    </tr>\n",
       "    <tr>\n",
       "      <th>25%</th>\n",
       "      <td>88.000000</td>\n",
       "    </tr>\n",
       "    <tr>\n",
       "      <th>50%</th>\n",
       "      <td>123.000000</td>\n",
       "    </tr>\n",
       "    <tr>\n",
       "      <th>75%</th>\n",
       "      <td>177.000000</td>\n",
       "    </tr>\n",
       "    <tr>\n",
       "      <th>max</th>\n",
       "      <td>396.000000</td>\n",
       "    </tr>\n",
       "  </tbody>\n",
       "</table>\n",
       "</div>"
      ],
      "text/plain": [
       "       Subscribers gained\n",
       "count          365.000000\n",
       "mean           135.643836\n",
       "std             62.675023\n",
       "min             33.000000\n",
       "25%             88.000000\n",
       "50%            123.000000\n",
       "75%            177.000000\n",
       "max            396.000000"
      ]
     },
     "execution_count": 100,
     "metadata": {},
     "output_type": "execute_result"
    }
   ],
   "source": [
    "# describe\n",
    "subs.describe()"
   ]
  },
  {
   "cell_type": "code",
   "execution_count": 101,
   "id": "ab6a786a-bf9d-4b7c-a807-d9a80d5f22ff",
   "metadata": {},
   "outputs": [
    {
     "data": {
      "text/plain": [
       "np.int64(57)"
      ]
     },
     "execution_count": 101,
     "metadata": {},
     "output_type": "execute_result"
    }
   ],
   "source": [
    "# integer indexing\n",
    "x = pd.Series([12,13,14,35,46,57,58,79,9])\n",
    "x[5]"
   ]
  },
  {
   "cell_type": "code",
   "execution_count": 102,
   "id": "cd23510d-ed73-4b2d-a7f2-3252301510a5",
   "metadata": {},
   "outputs": [
    {
     "ename": "KeyError",
     "evalue": "-1",
     "output_type": "error",
     "traceback": [
      "\u001b[31m---------------------------------------------------------------------------\u001b[39m",
      "\u001b[31mValueError\u001b[39m                                Traceback (most recent call last)",
      "\u001b[36mFile \u001b[39m\u001b[32m~\\miniconda3\\Lib\\site-packages\\pandas\\core\\indexes\\range.py:413\u001b[39m, in \u001b[36mRangeIndex.get_loc\u001b[39m\u001b[34m(self, key)\u001b[39m\n\u001b[32m    412\u001b[39m \u001b[38;5;28;01mtry\u001b[39;00m:\n\u001b[32m--> \u001b[39m\u001b[32m413\u001b[39m     \u001b[38;5;28;01mreturn\u001b[39;00m \u001b[38;5;28mself\u001b[39m._range.index(new_key)\n\u001b[32m    414\u001b[39m \u001b[38;5;28;01mexcept\u001b[39;00m \u001b[38;5;167;01mValueError\u001b[39;00m \u001b[38;5;28;01mas\u001b[39;00m err:\n",
      "\u001b[31mValueError\u001b[39m: -1 is not in range",
      "\nThe above exception was the direct cause of the following exception:\n",
      "\u001b[31mKeyError\u001b[39m                                  Traceback (most recent call last)",
      "\u001b[36mCell\u001b[39m\u001b[36m \u001b[39m\u001b[32mIn[102]\u001b[39m\u001b[32m, line 2\u001b[39m\n\u001b[32m      1\u001b[39m \u001b[38;5;66;03m# negative indexing\u001b[39;00m\n\u001b[32m----> \u001b[39m\u001b[32m2\u001b[39m x[-\u001b[32m1\u001b[39m]\n",
      "\u001b[36mFile \u001b[39m\u001b[32m~\\miniconda3\\Lib\\site-packages\\pandas\\core\\series.py:1121\u001b[39m, in \u001b[36mSeries.__getitem__\u001b[39m\u001b[34m(self, key)\u001b[39m\n\u001b[32m   1118\u001b[39m     \u001b[38;5;28;01mreturn\u001b[39;00m \u001b[38;5;28mself\u001b[39m._values[key]\n\u001b[32m   1120\u001b[39m \u001b[38;5;28;01melif\u001b[39;00m key_is_scalar:\n\u001b[32m-> \u001b[39m\u001b[32m1121\u001b[39m     \u001b[38;5;28;01mreturn\u001b[39;00m \u001b[38;5;28mself\u001b[39m._get_value(key)\n\u001b[32m   1123\u001b[39m \u001b[38;5;66;03m# Convert generator to list before going through hashable part\u001b[39;00m\n\u001b[32m   1124\u001b[39m \u001b[38;5;66;03m# (We will iterate through the generator there to check for slices)\u001b[39;00m\n\u001b[32m   1125\u001b[39m \u001b[38;5;28;01mif\u001b[39;00m is_iterator(key):\n",
      "\u001b[36mFile \u001b[39m\u001b[32m~\\miniconda3\\Lib\\site-packages\\pandas\\core\\series.py:1237\u001b[39m, in \u001b[36mSeries._get_value\u001b[39m\u001b[34m(self, label, takeable)\u001b[39m\n\u001b[32m   1234\u001b[39m     \u001b[38;5;28;01mreturn\u001b[39;00m \u001b[38;5;28mself\u001b[39m._values[label]\n\u001b[32m   1236\u001b[39m \u001b[38;5;66;03m# Similar to Index.get_value, but we do not fall back to positional\u001b[39;00m\n\u001b[32m-> \u001b[39m\u001b[32m1237\u001b[39m loc = \u001b[38;5;28mself\u001b[39m.index.get_loc(label)\n\u001b[32m   1239\u001b[39m \u001b[38;5;28;01mif\u001b[39;00m is_integer(loc):\n\u001b[32m   1240\u001b[39m     \u001b[38;5;28;01mreturn\u001b[39;00m \u001b[38;5;28mself\u001b[39m._values[loc]\n",
      "\u001b[36mFile \u001b[39m\u001b[32m~\\miniconda3\\Lib\\site-packages\\pandas\\core\\indexes\\range.py:415\u001b[39m, in \u001b[36mRangeIndex.get_loc\u001b[39m\u001b[34m(self, key)\u001b[39m\n\u001b[32m    413\u001b[39m         \u001b[38;5;28;01mreturn\u001b[39;00m \u001b[38;5;28mself\u001b[39m._range.index(new_key)\n\u001b[32m    414\u001b[39m     \u001b[38;5;28;01mexcept\u001b[39;00m \u001b[38;5;167;01mValueError\u001b[39;00m \u001b[38;5;28;01mas\u001b[39;00m err:\n\u001b[32m--> \u001b[39m\u001b[32m415\u001b[39m         \u001b[38;5;28;01mraise\u001b[39;00m \u001b[38;5;167;01mKeyError\u001b[39;00m(key) \u001b[38;5;28;01mfrom\u001b[39;00m\u001b[38;5;250m \u001b[39m\u001b[34;01merr\u001b[39;00m\n\u001b[32m    416\u001b[39m \u001b[38;5;28;01mif\u001b[39;00m \u001b[38;5;28misinstance\u001b[39m(key, Hashable):\n\u001b[32m    417\u001b[39m     \u001b[38;5;28;01mraise\u001b[39;00m \u001b[38;5;167;01mKeyError\u001b[39;00m(key)\n",
      "\u001b[31mKeyError\u001b[39m: -1"
     ]
    }
   ],
   "source": [
    "# negative indexing\n",
    "x[-1]"
   ]
  },
  {
   "cell_type": "code",
   "execution_count": null,
   "id": "f4534a01-ddb7-4aeb-9558-b390b1a09125",
   "metadata": {},
   "outputs": [],
   "source": [
    "marks_series[-1]"
   ]
  },
  {
   "cell_type": "code",
   "execution_count": 103,
   "id": "a901a8f6-4209-49d0-bf85-95584c5f5908",
   "metadata": {},
   "outputs": [
    {
     "ename": "KeyError",
     "evalue": "-3",
     "output_type": "error",
     "traceback": [
      "\u001b[31m---------------------------------------------------------------------------\u001b[39m",
      "\u001b[31mKeyError\u001b[39m                                  Traceback (most recent call last)",
      "\u001b[36mFile \u001b[39m\u001b[32m~\\miniconda3\\Lib\\site-packages\\pandas\\core\\indexes\\base.py:3805\u001b[39m, in \u001b[36mIndex.get_loc\u001b[39m\u001b[34m(self, key)\u001b[39m\n\u001b[32m   3804\u001b[39m \u001b[38;5;28;01mtry\u001b[39;00m:\n\u001b[32m-> \u001b[39m\u001b[32m3805\u001b[39m     \u001b[38;5;28;01mreturn\u001b[39;00m \u001b[38;5;28mself\u001b[39m._engine.get_loc(casted_key)\n\u001b[32m   3806\u001b[39m \u001b[38;5;28;01mexcept\u001b[39;00m \u001b[38;5;167;01mKeyError\u001b[39;00m \u001b[38;5;28;01mas\u001b[39;00m err:\n",
      "\u001b[36mFile \u001b[39m\u001b[32mindex.pyx:167\u001b[39m, in \u001b[36mpandas._libs.index.IndexEngine.get_loc\u001b[39m\u001b[34m()\u001b[39m\n",
      "\u001b[36mFile \u001b[39m\u001b[32mindex.pyx:196\u001b[39m, in \u001b[36mpandas._libs.index.IndexEngine.get_loc\u001b[39m\u001b[34m()\u001b[39m\n",
      "\u001b[36mFile \u001b[39m\u001b[32mpandas\\\\_libs\\\\hashtable_class_helper.pxi:7081\u001b[39m, in \u001b[36mpandas._libs.hashtable.PyObjectHashTable.get_item\u001b[39m\u001b[34m()\u001b[39m\n",
      "\u001b[36mFile \u001b[39m\u001b[32mpandas\\\\_libs\\\\hashtable_class_helper.pxi:7089\u001b[39m, in \u001b[36mpandas._libs.hashtable.PyObjectHashTable.get_item\u001b[39m\u001b[34m()\u001b[39m\n",
      "\u001b[31mKeyError\u001b[39m: -3",
      "\nThe above exception was the direct cause of the following exception:\n",
      "\u001b[31mKeyError\u001b[39m                                  Traceback (most recent call last)",
      "\u001b[36mCell\u001b[39m\u001b[36m \u001b[39m\u001b[32mIn[103]\u001b[39m\u001b[32m, line 1\u001b[39m\n\u001b[32m----> \u001b[39m\u001b[32m1\u001b[39m movies[-\u001b[32m3\u001b[39m]\n",
      "\u001b[36mFile \u001b[39m\u001b[32m~\\miniconda3\\Lib\\site-packages\\pandas\\core\\frame.py:4102\u001b[39m, in \u001b[36mDataFrame.__getitem__\u001b[39m\u001b[34m(self, key)\u001b[39m\n\u001b[32m   4100\u001b[39m \u001b[38;5;28;01mif\u001b[39;00m \u001b[38;5;28mself\u001b[39m.columns.nlevels > \u001b[32m1\u001b[39m:\n\u001b[32m   4101\u001b[39m     \u001b[38;5;28;01mreturn\u001b[39;00m \u001b[38;5;28mself\u001b[39m._getitem_multilevel(key)\n\u001b[32m-> \u001b[39m\u001b[32m4102\u001b[39m indexer = \u001b[38;5;28mself\u001b[39m.columns.get_loc(key)\n\u001b[32m   4103\u001b[39m \u001b[38;5;28;01mif\u001b[39;00m is_integer(indexer):\n\u001b[32m   4104\u001b[39m     indexer = [indexer]\n",
      "\u001b[36mFile \u001b[39m\u001b[32m~\\miniconda3\\Lib\\site-packages\\pandas\\core\\indexes\\base.py:3812\u001b[39m, in \u001b[36mIndex.get_loc\u001b[39m\u001b[34m(self, key)\u001b[39m\n\u001b[32m   3807\u001b[39m     \u001b[38;5;28;01mif\u001b[39;00m \u001b[38;5;28misinstance\u001b[39m(casted_key, \u001b[38;5;28mslice\u001b[39m) \u001b[38;5;129;01mor\u001b[39;00m (\n\u001b[32m   3808\u001b[39m         \u001b[38;5;28misinstance\u001b[39m(casted_key, abc.Iterable)\n\u001b[32m   3809\u001b[39m         \u001b[38;5;129;01mand\u001b[39;00m \u001b[38;5;28many\u001b[39m(\u001b[38;5;28misinstance\u001b[39m(x, \u001b[38;5;28mslice\u001b[39m) \u001b[38;5;28;01mfor\u001b[39;00m x \u001b[38;5;129;01min\u001b[39;00m casted_key)\n\u001b[32m   3810\u001b[39m     ):\n\u001b[32m   3811\u001b[39m         \u001b[38;5;28;01mraise\u001b[39;00m InvalidIndexError(key)\n\u001b[32m-> \u001b[39m\u001b[32m3812\u001b[39m     \u001b[38;5;28;01mraise\u001b[39;00m \u001b[38;5;167;01mKeyError\u001b[39;00m(key) \u001b[38;5;28;01mfrom\u001b[39;00m\u001b[38;5;250m \u001b[39m\u001b[34;01merr\u001b[39;00m\n\u001b[32m   3813\u001b[39m \u001b[38;5;28;01mexcept\u001b[39;00m \u001b[38;5;167;01mTypeError\u001b[39;00m:\n\u001b[32m   3814\u001b[39m     \u001b[38;5;66;03m# If we have a listlike key, _check_indexing_error will raise\u001b[39;00m\n\u001b[32m   3815\u001b[39m     \u001b[38;5;66;03m#  InvalidIndexError. Otherwise we fall through and re-raise\u001b[39;00m\n\u001b[32m   3816\u001b[39m     \u001b[38;5;66;03m#  the TypeError.\u001b[39;00m\n\u001b[32m   3817\u001b[39m     \u001b[38;5;28mself\u001b[39m._check_indexing_error(key)\n",
      "\u001b[31mKeyError\u001b[39m: -3"
     ]
    }
   ],
   "source": [
    "movies[-3]"
   ]
  },
  {
   "cell_type": "code",
   "execution_count": 125,
   "id": "bc6e4e85-9600-4249-bdfd-56c421f195d9",
   "metadata": {},
   "outputs": [
    {
     "data": {
      "text/html": [
       "<div>\n",
       "<style scoped>\n",
       "    .dataframe tbody tr th:only-of-type {\n",
       "        vertical-align: middle;\n",
       "    }\n",
       "\n",
       "    .dataframe tbody tr th {\n",
       "        vertical-align: top;\n",
       "    }\n",
       "\n",
       "    .dataframe thead th {\n",
       "        text-align: right;\n",
       "    }\n",
       "</style>\n",
       "<table border=\"1\" class=\"dataframe\">\n",
       "  <thead>\n",
       "    <tr style=\"text-align: right;\">\n",
       "      <th></th>\n",
       "      <th>runs</th>\n",
       "    </tr>\n",
       "    <tr>\n",
       "      <th>match_no</th>\n",
       "      <th></th>\n",
       "    </tr>\n",
       "  </thead>\n",
       "  <tbody>\n",
       "    <tr>\n",
       "      <th>93</th>\n",
       "      <td>0</td>\n",
       "    </tr>\n",
       "    <tr>\n",
       "      <th>8</th>\n",
       "      <td>0</td>\n",
       "    </tr>\n",
       "    <tr>\n",
       "      <th>130</th>\n",
       "      <td>0</td>\n",
       "    </tr>\n",
       "    <tr>\n",
       "      <th>135</th>\n",
       "      <td>0</td>\n",
       "    </tr>\n",
       "    <tr>\n",
       "      <th>204</th>\n",
       "      <td>1</td>\n",
       "    </tr>\n",
       "    <tr>\n",
       "      <th>5</th>\n",
       "      <td>1</td>\n",
       "    </tr>\n",
       "    <tr>\n",
       "      <th>174</th>\n",
       "      <td>1</td>\n",
       "    </tr>\n",
       "    <tr>\n",
       "      <th>1</th>\n",
       "      <td>1</td>\n",
       "    </tr>\n",
       "    <tr>\n",
       "      <th>75</th>\n",
       "      <td>1</td>\n",
       "    </tr>\n",
       "    <tr>\n",
       "      <th>77</th>\n",
       "      <td>1</td>\n",
       "    </tr>\n",
       "    <tr>\n",
       "      <th>113</th>\n",
       "      <td>1</td>\n",
       "    </tr>\n",
       "  </tbody>\n",
       "</table>\n",
       "</div>"
      ],
      "text/plain": [
       "          runs\n",
       "match_no      \n",
       "93           0\n",
       "8            0\n",
       "130          0\n",
       "135          0\n",
       "204          1\n",
       "5            1\n",
       "174          1\n",
       "1            1\n",
       "75           1\n",
       "77           1\n",
       "113          1"
      ]
     },
     "execution_count": 125,
     "metadata": {},
     "output_type": "execute_result"
    }
   ],
   "source": [
    "\n",
    "# slicing\n",
    "vk[5:16]"
   ]
  },
  {
   "cell_type": "code",
   "execution_count": 126,
   "id": "b0300da1-cc8d-4ae0-9ad3-883d1f00ef4b",
   "metadata": {},
   "outputs": [
    {
     "data": {
      "text/plain": [
       "4    46\n",
       "5    57\n",
       "6    58\n",
       "7    79\n",
       "8     9\n",
       "dtype: int64"
      ]
     },
     "execution_count": 126,
     "metadata": {},
     "output_type": "execute_result"
    }
   ],
   "source": [
    "# negative slicing\n",
    "x[-5:]"
   ]
  },
  {
   "cell_type": "code",
   "execution_count": 127,
   "id": "cf1a5e76-d76b-4971-94e0-bed2d0ab21a3",
   "metadata": {},
   "outputs": [
    {
     "data": {
      "text/html": [
       "<div>\n",
       "<style scoped>\n",
       "    .dataframe tbody tr th:only-of-type {\n",
       "        vertical-align: middle;\n",
       "    }\n",
       "\n",
       "    .dataframe tbody tr th {\n",
       "        vertical-align: top;\n",
       "    }\n",
       "\n",
       "    .dataframe thead th {\n",
       "        text-align: right;\n",
       "    }\n",
       "</style>\n",
       "<table border=\"1\" class=\"dataframe\">\n",
       "  <thead>\n",
       "    <tr style=\"text-align: right;\">\n",
       "      <th></th>\n",
       "      <th>lead</th>\n",
       "    </tr>\n",
       "    <tr>\n",
       "      <th>movie</th>\n",
       "      <th></th>\n",
       "    </tr>\n",
       "  </thead>\n",
       "  <tbody>\n",
       "    <tr>\n",
       "      <th>Zor Lagaa Ke...Haiya!</th>\n",
       "      <td>Meghan Jadhav</td>\n",
       "    </tr>\n",
       "    <tr>\n",
       "      <th>Zindagi Tere Naam</th>\n",
       "      <td>Mithun Chakraborty</td>\n",
       "    </tr>\n",
       "    <tr>\n",
       "      <th>Zindagi 50-50</th>\n",
       "      <td>Veena Malik</td>\n",
       "    </tr>\n",
       "    <tr>\n",
       "      <th>Zinda (film)</th>\n",
       "      <td>Sanjay Dutt</td>\n",
       "    </tr>\n",
       "    <tr>\n",
       "      <th>Zid (2014 film)</th>\n",
       "      <td>Mannara Chopra</td>\n",
       "    </tr>\n",
       "    <tr>\n",
       "      <th>...</th>\n",
       "      <td>...</td>\n",
       "    </tr>\n",
       "    <tr>\n",
       "      <th>3 Storeys</th>\n",
       "      <td>Aisha Ahmed</td>\n",
       "    </tr>\n",
       "    <tr>\n",
       "      <th>3 Deewarein</th>\n",
       "      <td>Naseeruddin Shah</td>\n",
       "    </tr>\n",
       "    <tr>\n",
       "      <th>22 Yards</th>\n",
       "      <td>Barun Sobti</td>\n",
       "    </tr>\n",
       "    <tr>\n",
       "      <th>1971 (2007 film)</th>\n",
       "      <td>Manoj Bajpayee</td>\n",
       "    </tr>\n",
       "    <tr>\n",
       "      <th>1920: London</th>\n",
       "      <td>Sharman Joshi</td>\n",
       "    </tr>\n",
       "  </tbody>\n",
       "</table>\n",
       "<p>750 rows × 1 columns</p>\n",
       "</div>"
      ],
      "text/plain": [
       "                                     lead\n",
       "movie                                    \n",
       "Zor Lagaa Ke...Haiya!       Meghan Jadhav\n",
       "Zindagi Tere Naam      Mithun Chakraborty\n",
       "Zindagi 50-50                 Veena Malik\n",
       "Zinda (film)                  Sanjay Dutt\n",
       "Zid (2014 film)            Mannara Chopra\n",
       "...                                   ...\n",
       "3 Storeys                     Aisha Ahmed\n",
       "3 Deewarein              Naseeruddin Shah\n",
       "22 Yards                      Barun Sobti\n",
       "1971 (2007 film)           Manoj Bajpayee\n",
       "1920: London                Sharman Joshi\n",
       "\n",
       "[750 rows x 1 columns]"
      ]
     },
     "execution_count": 127,
     "metadata": {},
     "output_type": "execute_result"
    }
   ],
   "source": [
    "movies[::2]"
   ]
  },
  {
   "cell_type": "code",
   "execution_count": 128,
   "id": "040a57a6-25b5-4285-bdae-6905ff4e2119",
   "metadata": {},
   "outputs": [
    {
     "data": {
      "text/plain": [
       "maths      100.0\n",
       "english     57.0\n",
       "science     89.0\n",
       "hindi      100.0\n",
       "hin        100.0\n",
       "hind         NaN\n",
       "evs        100.0\n",
       "Name: student1s marks, dtype: float64"
      ]
     },
     "execution_count": 128,
     "metadata": {},
     "output_type": "execute_result"
    }
   ],
   "source": [
    "# using indexing\n",
    "marks_series['maths'] = 100\n",
    "marks_series"
   ]
  },
  {
   "cell_type": "code",
   "execution_count": 129,
   "id": "6e1b4518-86d2-443f-9680-98dbaa4a0829",
   "metadata": {},
   "outputs": [],
   "source": [
    "# what if an index does not exist\n",
    "marks_series['evs'] = 100"
   ]
  },
  {
   "cell_type": "code",
   "execution_count": 130,
   "id": "f82cbd50-83e3-4594-a6ef-1c46e2311cc6",
   "metadata": {},
   "outputs": [
    {
     "data": {
      "text/plain": [
       "maths      100.0\n",
       "english     57.0\n",
       "science     89.0\n",
       "hindi      100.0\n",
       "hin        100.0\n",
       "hind         NaN\n",
       "evs        100.0\n",
       "Name: student1s marks, dtype: float64"
      ]
     },
     "execution_count": 130,
     "metadata": {},
     "output_type": "execute_result"
    }
   ],
   "source": [
    "marks_series"
   ]
  },
  {
   "cell_type": "code",
   "execution_count": 131,
   "id": "7a450d4f-ea7f-4588-9bf2-74291fa70bcf",
   "metadata": {},
   "outputs": [
    {
     "data": {
      "text/plain": [
       "0     13\n",
       "1     24\n",
       "2    100\n",
       "3    100\n",
       "4    100\n",
       "dtype: int64"
      ]
     },
     "execution_count": 131,
     "metadata": {},
     "output_type": "execute_result"
    }
   ],
   "source": [
    "# slicing\n",
    "runs_ser[2:4] = [100,100]\n",
    "runs_ser"
   ]
  },
  {
   "cell_type": "code",
   "execution_count": 132,
   "id": "57b41223-eee4-4d44-b51c-4473db3ffae3",
   "metadata": {},
   "outputs": [],
   "source": [
    "s = \"hello\"\n",
    "# dir(s)\n"
   ]
  },
  {
   "cell_type": "code",
   "execution_count": 133,
   "id": "3f3aefee-ca0d-41c6-a4a2-0769f9eaf167",
   "metadata": {},
   "outputs": [
    {
     "name": "stdout",
     "output_type": "stream",
     "text": [
      "365\n",
      "33\n",
      "396\n"
     ]
    }
   ],
   "source": [
    "# len/type/dir/sorted/max/min\n",
    "print(len(subs1))\n",
    "# print(type(subs))\n",
    "# print(dir(subs1))\n",
    "print(min(subs1))\n",
    "print(max(subs1))"
   ]
  },
  {
   "cell_type": "code",
   "execution_count": 134,
   "id": "c8ccc961-20d4-4d29-8d71-fb4b7b005bef",
   "metadata": {},
   "outputs": [],
   "source": [
    "subs1 = subs.squeeze()"
   ]
  },
  {
   "cell_type": "code",
   "execution_count": 135,
   "id": "c00d4951-c18b-42c6-a989-3aa25d98767c",
   "metadata": {},
   "outputs": [
    {
     "data": {
      "text/plain": [
       "[100.0, 57.0, 89.0, 100.0, 100.0, nan, 100.0]"
      ]
     },
     "execution_count": 135,
     "metadata": {},
     "output_type": "execute_result"
    }
   ],
   "source": [
    "# type conversion\n",
    "list(marks_series)"
   ]
  },
  {
   "cell_type": "code",
   "execution_count": 136,
   "id": "52c0fe72-811f-4191-ba13-f89f3cba85b2",
   "metadata": {},
   "outputs": [
    {
     "data": {
      "text/plain": [
       "{'maths': np.float64(100.0),\n",
       " 'english': np.float64(57.0),\n",
       " 'science': np.float64(89.0),\n",
       " 'hindi': np.float64(100.0),\n",
       " 'hin': np.float64(100.0),\n",
       " 'hind': np.float64(nan),\n",
       " 'evs': np.float64(100.0)}"
      ]
     },
     "execution_count": 136,
     "metadata": {},
     "output_type": "execute_result"
    }
   ],
   "source": [
    "dict(marks_series)"
   ]
  },
  {
   "cell_type": "code",
   "execution_count": 137,
   "id": "e0507dc8-f2b1-491d-84af-d2af8a2eb447",
   "metadata": {},
   "outputs": [
    {
     "data": {
      "text/plain": [
       "False"
      ]
     },
     "execution_count": 137,
     "metadata": {},
     "output_type": "execute_result"
    }
   ],
   "source": [
    "# membership operator\n",
    "\n",
    "'2 States (2014 film)' in movies"
   ]
  },
  {
   "cell_type": "code",
   "execution_count": 138,
   "id": "74a5a1e2-cae8-49d5-b7e6-4dc9f1602011",
   "metadata": {},
   "outputs": [
    {
     "data": {
      "text/plain": [
       "True"
      ]
     },
     "execution_count": 138,
     "metadata": {},
     "output_type": "execute_result"
    }
   ],
   "source": [
    "'Alia Bhatt' in movies.values"
   ]
  },
  {
   "cell_type": "code",
   "execution_count": 139,
   "id": "513cee01-52ba-48bb-b74f-dd80c2892c6a",
   "metadata": {},
   "outputs": [
    {
     "name": "stdout",
     "output_type": "stream",
     "text": [
      "['Meghan Jadhav']\n",
      "['Darsheel Safary']\n",
      "['Mithun Chakraborty']\n",
      "['Hrithik Roshan']\n",
      "['Veena Malik']\n",
      "['Sushmita Sen']\n",
      "['Sanjay Dutt']\n",
      "['Vivek Oberoi']\n",
      "['Mannara Chopra']\n",
      "['Shah Rukh Khan']\n",
      "['Emraan Hashmi']\n",
      "['Vinod Acharya']\n",
      "['Ajay Devgn']\n",
      "['Ajay Devgn']\n",
      "['Jeetendra']\n",
      "['Salman Khan']\n",
      "['Ajay Devgn']\n",
      "['Paresh Rawal']\n",
      "['Jackky Bhagnani']\n",
      "['Vardhan Puri']\n",
      "['Anupam Kher']\n",
      "['Shah Rukh Khan']\n",
      "['Anya Anand']\n",
      "['Ranbir Kapoor']\n",
      "['Gavie Chahal']\n",
      "['Anshuman Jha']\n",
      "['Deepshika Nagpal']\n",
      "['Tusshar Kapoor']\n",
      "['Rekha']\n",
      "['Dharmendra']\n",
      "['Nafisa Ali']\n",
      "['Arjun Rampal']\n",
      "['Prisha Aneja']\n",
      "['Siddhanth Kapoor']\n",
      "['Indrapal Ahuja']\n",
      "['Sharman Joshi']\n",
      "['Sikander Kher']\n",
      "['Kangana Ranaut']\n",
      "['Emraan Hashmi']\n",
      "['Harman Baweja']\n",
      "['Manu Rishi Chadha']\n",
      "['Boman Irani']\n",
      "['Shreyas Talpade']\n",
      "['Anil Kapoor']\n",
      "['Arshad Warsi']\n",
      "['Akshay Kumar']\n",
      "['Diganth']\n",
      "['Nana Patekar']\n",
      "['Gurdas Maan']\n",
      "['Sharman Joshi']\n",
      "['Amitabh Bachchan']\n",
      "['Salman Khan']\n",
      "['Ranbir Kapoor']\n",
      "['Elisha Kriis']\n",
      "['Sharman Joshi']\n",
      "['Naseeruddin Shah']\n",
      "['Arshad Warsi']\n",
      "['Shreyas Talpade']\n",
      "['Rajesh Khanna']\n",
      "['Niharica Raizada']\n",
      "['Leeza Mangaldas']\n",
      "['Kay Kay Menon']\n",
      "['Shahid Kapoor']\n",
      "['Kamal Haasan']\n",
      "['Amitabh Bachchan']\n",
      "['Vikram Aditya']\n",
      "['Harman Baweja']\n",
      "['Ayushmann Khurrana']\n",
      "['Hugh Bonneville']\n",
      "['Kay Kay Menon']\n",
      "['Pulkit Samrat']\n",
      "['Sachiin Joshi']\n",
      "['Shah Rukh Khan']\n",
      "['Salman Khan']\n",
      "['Shikhi Gupta']\n",
      "['Vicky Ahuja']\n",
      "['Shahid Kapoor']\n",
      "['Bobby Deol']\n",
      "['Arjun Rampal']\n",
      "['Mohit Baghel']\n",
      "['Priyanshu Chatterjee']\n",
      "['Vinay Pathak']\n",
      "['Vicky Kaushal']\n",
      "['Russell Geoffrey Banks']\n",
      "['Rahul Bhat']\n",
      "['Emraan Hashmi']\n",
      "['Aashish Bhatt']\n",
      "['Aishwarya Rai Bachchan']\n",
      "['Jimmy Sheirgill']\n",
      "['Sunny Singh Nijjar']\n",
      "['Rahul Bhat']\n",
      "['Shahid Kapoor']\n",
      "['Rajat Barmecha']\n",
      "['Mikaal']\n",
      "['Ajay Devgn']\n",
      "['Gul Panag']\n",
      "['Emraan Hashmi']\n",
      "['Vidya Balan']\n",
      "['Sohum Shah']\n",
      "['Nana Patekar']\n",
      "['Emraan Hashmi']\n",
      "['Neha Sharma']\n",
      "['Manisha Koirala']\n",
      "['Riteish Deshmukh']\n",
      "['Salman Khan']\n",
      "['Vikrum Kumar']\n",
      "['Rajkummar Rao']\n",
      "['Kunal Khemu']\n",
      "['Manoj Bajpayee']\n",
      "['Ali Zafar']\n",
      "['Ajay Devgn']\n",
      "['Ajay Devgn']\n",
      "['Rakesh Bedi']\n",
      "['Akshay Kumar']\n",
      "['Tabu']\n",
      "['Nishant Dahiya']\n",
      "['Nawazuddin Siddiqui']\n",
      "['Salman Khan']\n",
      "['Aamir Khan']\n",
      "['Saahil Chadha']\n",
      "['Arya Babbar']\n",
      "['Saif Ali Khan']\n",
      "['Bhavita Anand']\n",
      "['Sonam Kapoor']\n",
      "['Himesh Reshammiya']\n",
      "['Emraan Hashmi']\n",
      "['Naseeruddin Shah']\n",
      "['Kay Kay Menon']\n",
      "['Zaira Wasim']\n",
      "['Mann Bagga']\n",
      "['Akshay Kumar']\n",
      "['Edwin Fernandes']\n",
      "['Kal Penn']\n",
      "['Irrfan Khan']\n",
      "['Amitabh Bachchan']\n",
      "['Irrfan Khan']\n",
      "['Shakti Kapoor']\n",
      "['Rahul Bose']\n",
      "['Sunny Deol']\n",
      "['Rana Daggubati']\n",
      "['Kunaal Roy Kapur']\n",
      "['Ranvir Shorey']\n",
      "['Nassar Abdulla']\n",
      "['Vidya Balan']\n",
      "['Nawazuddin Siddiqui']\n",
      "['Kartik Elangovan']\n",
      "['Pankaj Kapur']\n",
      "['Anupam Kher']\n",
      "['Master Shams']\n",
      "['Akshay Kumar']\n",
      "['Nawazuddin Siddiqui']\n",
      "['Anil Kapoor']\n",
      "['Arjun Kapoor']\n",
      "['Shahid Kapoor']\n",
      "['Salman Khan']\n",
      "['Riteish Deshmukh']\n",
      "['Vinay Pathak']\n",
      "['Parthaa Akerkar']\n",
      "['Ali Zafar']\n",
      "['Neil Nitin Mukesh']\n",
      "['Dharmendra']\n",
      "['Shabana Azmi']\n",
      "['Sunny Deol']\n",
      "['Akshay Kumar']\n",
      "['Om Puri']\n",
      "['Amitabh Bachchan']\n",
      "['Amitabh Bachchan']\n",
      "['Nana Patekar']\n",
      "['Sanjay Dutt']\n",
      "['Akshay Kumar']\n",
      "['Kangana Ranaut']\n",
      "['Kangana Ranaut']\n",
      "['Madhavan']\n",
      "['Ajay Devgn']\n",
      "['Nikhil Dwivedi']\n",
      "['Irrfan Khan']\n",
      "['Rakhee Gulzar']\n",
      "['Aamir Khan']\n",
      "['Sulabha Arya']\n",
      "['Zulfi Sayed']\n",
      "['Victor Banerjee']\n",
      "['Paresh Rawal']\n",
      "['Vatsal Sheth']\n",
      "['Darsheel Safary']\n",
      "['Saif Ali Khan']\n",
      "['Himansh Kohli']\n",
      "['Manoj Bajpayee']\n",
      "['Shah Rukh Khan']\n",
      "['Rekha']\n",
      "['Ashmit Patel']\n",
      "['Hrithik Roshan']\n",
      "['Aftab Shivdasani']\n",
      "['Jaya Bachchan']\n",
      "['Ajay Devgn']\n",
      "['Ahraz Ahmed']\n",
      "['Salman Khan']\n",
      "['Naveen Kasturia']\n",
      "['Gurdas Maan']\n",
      "['Anushka Sharma']\n",
      "['Raveena Tandon']\n",
      "['Tiger Shroff']\n",
      "['Alia Bhatt']\n",
      "['Zeenat Aman']\n",
      "['Siddharth']\n",
      "['Rajkummar Rao']\n",
      "['Jimmy Sheirgill']\n",
      "['Jahangir Khan']\n",
      "['Kanika Batra']\n",
      "['Partho A. Gupte']\n",
      "['Aarti Chhabria']\n",
      "['Tanishaa Mukerji']\n",
      "['Urmila Matondkar']\n",
      "['Akshay Kumar']\n",
      "['Rati Agnihotri']\n",
      "['Mahima Chaudhry']\n",
      "['Shamim Khan']\n",
      "['Shabana Azmi']\n",
      "['Tinnu Anand']\n",
      "['Kartik Aaryan']\n",
      "['Sunidhi Chauhan']\n",
      "['Geetika Vidya Ohlyan']\n",
      "['Sushant Singh Rajput']\n",
      "['Rhea Chakraborty']\n",
      "['Ajay Devgn']\n",
      "['Abhay Deol']\n",
      "['Barkha Madan']\n",
      "['Wamiqa Gabbi']\n",
      "['Kay Kay Menon']\n",
      "['Anupam Kher']\n",
      "['Ajay Devgn']\n",
      "['Sunny Deol']\n",
      "['Akshay Kumar']\n",
      "['Akshay Kumar']\n",
      "['Kangana Ranaut']\n",
      "['Ranveer Singh']\n",
      "['Tabu']\n",
      "['Parzaan Dastur']\n",
      "['Rajesh Tailang']\n",
      "['Anupam Kher']\n",
      "['Sushant Singh Rajput']\n",
      "['Ayushmann Khurrana']\n",
      "['Tushar Jalota']\n",
      "['Sanjay Dutt']\n",
      "['Jimmy Sheirgill']\n",
      "['Neil Nitin Mukesh']\n",
      "['Jimmy Sheirgill']\n",
      "['Sendhil Ramamurthy']\n",
      "['Amitabh Bachchan']\n",
      "['Sanjeev Kumar']\n",
      "['Ajay Devgn']\n",
      "['Mohit Ahlawat']\n",
      "['Freny Bhagat']\n",
      "['Aida Elkashef']\n",
      "['Ajay Devgn']\n",
      "['Neha Dhupia']\n",
      "['Tarun Arora']\n",
      "['Tusshar Kapoor']\n",
      "['Zayed Khan']\n",
      "['Emraan Hashmi']\n",
      "['Amitabh Bachchan']\n",
      "['Bobby Deol']\n",
      "['Kalki Koechlin']\n",
      "['Rajkummar Rao']\n",
      "['Nana Patekar']\n",
      "['Isha Koppikar']\n",
      "['Ashutosh Rana']\n",
      "['Sanjay Dutt']\n",
      "['Ashish Bisht']\n",
      "['Aditya Narayan']\n",
      "['Shahid Kapoor']\n",
      "['Akshaye Khanna']\n",
      "['Fardeen Khan']\n",
      "['Rajkummar Rao']\n",
      "['Farhan Akhtar']\n",
      "['Salman Khan']\n",
      "['Sanjay Suri']\n",
      "['Shreyas Talpade']\n",
      "['Arshad Warsi']\n",
      "['Akshaye Khanna']\n",
      "['Zaira Wasim']\n",
      "['Dharmendra']\n",
      "['Mandar Jadhav']\n",
      "['John Abraham']\n",
      "['Amitabh Bachchan']\n",
      "['Puneet Singh Ratn']\n",
      "['Raveena Tandon']\n",
      "['Sanjay Mishra']\n",
      "['Suraj Pancholi']\n",
      "['Amitabh Bachchan']\n",
      "['Amitabh Bachchan']\n",
      "['Amitabh Bachchan']\n",
      "['Mahima Chaudhry']\n",
      "['Randeep Hooda']\n",
      "['Boman Irani']\n",
      "['Kay Kay Menon']\n",
      "['Ranbir Kapoor']\n",
      "['Govinda']\n",
      "['Rishi Kapoor']\n",
      "['Rajeev Khandelwal']\n",
      "['Sushmita Sen']\n",
      "['Zeenat Aman']\n",
      "['Salman Khan']\n",
      "['Saif Ali Khan']\n",
      "['Anupam Kher']\n",
      "['Jimmy Sheirgill']\n",
      "['Sanjay Dutt']\n",
      "['Jimmy Sheirgill']\n",
      "['Rekha']\n",
      "['Karan Sharma']\n",
      "['Sarika']\n",
      "['Sachin Tendulkar']\n",
      "['Swara Bhaskar']\n",
      "['John Abraham']\n",
      "['Rani Mukerji']\n",
      "['Salman Khan']\n",
      "['Vivek Oberoi']\n",
      "['Manoj Bajpayee']\n",
      "['Kiron Kher']\n",
      "['Vishwa Mohan Badola']\n",
      "['Sonarika Bhadoria']\n",
      "['Tanima Bhattacharya']\n",
      "['Taapsee Pannu']\n",
      "['Jacqueline Fernandez']\n",
      "[\"Ileana D'Cruz\"]\n",
      "['Emraan Hashmi']\n",
      "['Arsh Bajwa']\n",
      "['Abhishek Bachchan']\n",
      "['Tanuja']\n",
      "['Manoj Bajpayee']\n",
      "['Sanjay Dutt']\n",
      "['Arjun Rampal']\n",
      "['Tannishtha Chatterjee']\n",
      "['Tanushree Dutta']\n",
      "['Sunny Deol']\n",
      "['Irrfan Khan']\n",
      "['John Abraham']\n",
      "['Ranbir Kapoor']\n",
      "['Ranbir Kapoor']\n",
      "['Arjun Rampal']\n",
      "['Farhan Akhtar']\n",
      "['Aadil Chahal']\n",
      "['Saif Ali Khan']\n",
      "['Paresh Rawal']\n",
      "['Rajesh Khanna']\n",
      "['Garima Agarwal']\n",
      "['Vinod Khanna']\n",
      "['Sunny Deol']\n",
      "['Ankit']\n",
      "['Kalki Koechlin']\n",
      "['Kangana Ranaut']\n",
      "['Kashmira Shah']\n",
      "['Aftab Shivdasani']\n",
      "['Sherlyn Chopra']\n",
      "['Sunil Shetty']\n",
      "['Prince Shah']\n",
      "['Ajay Devgn']\n",
      "['Rahul Khanna']\n",
      "['Amitabh Bachchan']\n",
      "['Jackky Bhagnani']\n",
      "['Kangana Ranaut']\n",
      "['Randeep Hooda']\n",
      "['Aamir Khan']\n",
      "['Soundarya Sharma']\n",
      "['Manish Paul']\n",
      "['Naseeruddin Shah']\n",
      "['Madhavan']\n",
      "['Manoj Bajpayee']\n",
      "['Nawazuddin Siddiqui']\n",
      "['Shruti Haasan']\n",
      "['Sahil Khan']\n",
      "['Julia Datt']\n",
      "['Sanjay Dutt']\n",
      "['Amyra Dastur']\n",
      "['Kangana Ranaut']\n",
      "['Emraan Hashmi']\n",
      "['Sadashiv Amrapurkar']\n",
      "['Ajay Devgn']\n",
      "['Ajay Devgn']\n",
      "['Kay Kay Menon']\n",
      "['Sunny Leone']\n",
      "['Kainaz Motivala']\n",
      "['Vijay Raaz']\n",
      "['Raj Arjun']\n",
      "['Anil Kapoor']\n",
      "['Saif Ali Khan']\n",
      "['Saif Ali Khan']\n",
      "['Shah Rukh Khan']\n",
      "['Alia Bhatt']\n",
      "['Kangana Ranaut']\n",
      "['Emraan Hashmi']\n",
      "['Dino Morea']\n",
      "['Abhishek Bachchan']\n",
      "['Aamir Bashir']\n",
      "['Dhanush']\n",
      "['Kunal Kapoor']\n",
      "['Deepika Padukone']\n",
      "['Shah Rukh Khan']\n",
      "['Rajendra Prasad']\n",
      "['Kangana Ranaut']\n",
      "['Irrfan Khan']\n",
      "['Ajay Devgn']\n",
      "['Irrfan Khan']\n",
      "['Aadar Jain']\n",
      "['Fardeen Khan']\n",
      "['Rishi Kapoor']\n",
      "['Rahul Bose']\n",
      "['Kartik Aaryan']\n",
      "['Kartik Aaryan']\n",
      "['Priyanka Chopra']\n",
      "['Tanuj Virwani']\n",
      "['Vivek Oberoi']\n",
      "['Salman Khan']\n",
      "['Arbaaz Khan']\n",
      "['Jeetendra']\n",
      "['Sanjay Dutt']\n",
      "['Rajeev Khandelwal']\n",
      "['Chandan Roy Sanyal']\n",
      "['Raveena Tandon']\n",
      "['Sunny Deol']\n",
      "['Akshay Kapoor']\n",
      "['Sanjay Dutt']\n",
      "['Akshay Kumar']\n",
      "['Vinod Khanna']\n",
      "['Sanjay Dutt']\n",
      "['Akshay Oberoi']\n",
      "['Taapsee Pannu']\n",
      "['Urmila Matondkar']\n",
      "['Deepika Padukone']\n",
      "['Rahul Bagga']\n",
      "['Nawazuddin Siddiqui']\n",
      "['Sudeep']\n",
      "['Radhika Apte']\n",
      "['Salman Khan']\n",
      "['Mithun Chakraborty']\n",
      "['Akshay Kumar']\n",
      "['Anushka Sharma']\n",
      "['Rajniesh Duggall']\n",
      "['Shahid Kapoor']\n",
      "['Rajat Kapoor']\n",
      "['Saif Ali Khan']\n",
      "['Jimmy Sheirgill']\n",
      "['Vinod Khanna']\n",
      "['Omkar Das Manikpuri']\n",
      "['Shreyas Talpade']\n",
      "['Rishi Kapoor']\n",
      "['Kartik Aaryan']\n",
      "['Rishi Kapoor']\n",
      "['Sanya Malhotra']\n",
      "['Ajay Devgn']\n",
      "['Salman Khan']\n",
      "['John Abraham']\n",
      "['Saif Ali Khan']\n",
      "['Tannishtha Chatterjee']\n",
      "['Mohinder Gujral']\n",
      "['Bipasha Basu']\n",
      "['Nayna Bandhopadhyay']\n",
      "['Jackie Shroff']\n",
      "['Karan Deol']\n",
      "['Manisha Koirala']\n",
      "['Shah Rukh Khan']\n",
      "['Konkona Sen Sharma']\n",
      "['Kriti Kharbanda']\n",
      "['Sunil Shetty']\n",
      "['Deepika Padukone']\n",
      "['Nana Patekar']\n",
      "['John Abraham']\n",
      "['Nassar Abdulla']\n",
      "['Irrfan Khan']\n",
      "['Amitabh Bachchan']\n",
      "['Boman Irani']\n",
      "['Aamir Khan']\n",
      "['Bhavesh Kumar']\n",
      "['Meenakshi Dixit']\n",
      "['Abhay Deol']\n",
      "['Riteish Deshmukh']\n",
      "['Abhay Deol']\n",
      "['Tusshar Kapoor']\n",
      "['Anupam Kher']\n",
      "['Akshay Kumar']\n",
      "['Ajay Devgn']\n",
      "['Ajay Devgn']\n",
      "['Rajkummar Rao']\n",
      "['Gopi Desai']\n",
      "['Shah Rukh Khan']\n",
      "['Attin Bhalla']\n",
      "['Shraddha Kapoor']\n",
      "['Vinay Pathak']\n",
      "['Varun Dhawan']\n",
      "['Paresh Rawal']\n",
      "['Pulkit Samrat']\n",
      "['Madhavan']\n",
      "['Zaheer Iqbal']\n",
      "['Deepak Dobriyal']\n",
      "['Sunny Leone']\n",
      "['John Abraham']\n",
      "['Sanjay Dutt']\n",
      "['Rani Mukerji']\n",
      "['Anil Kapoor']\n",
      "['Amitabh Bachchan']\n",
      "['Ashmit Patel']\n",
      "['Swara Bhaskar']\n",
      "['Rajkummar Rao']\n",
      "['John Abraham']\n",
      "['Vinay Anand']\n",
      "['Sanjay Dutt']\n",
      "['Sonam Kapoor']\n",
      "['Uday Chopra']\n",
      "['Vikas Kalantri']\n",
      "['Dharmesh Yelande']\n",
      "['Ayushmann Khurrana']\n",
      "['Govinda']\n",
      "['Poonam Pandey']\n",
      "['Bobby Deol']\n",
      "['Abhay Deol']\n",
      "['Dwij Yadav']\n",
      "['Akshay Kumar']\n",
      "['Arjun Kapoor']\n",
      "['Sunny Deol']\n",
      "['Urmila Matondkar']\n",
      "['Taapsee Pannu']\n",
      "['Antara Mali']\n",
      "['Om Puri']\n",
      "['Anushka Sharma']\n",
      "['Auroshika Dey']\n",
      "['Anil Kapoor']\n",
      "['Shah Rukh Khan']\n",
      "['Prateik']\n",
      "['Sanjay Suri']\n",
      "['Jason Lewis']\n",
      "['Nora Fatehi']\n",
      "['Aftab Shivdasani']\n",
      "['Anil Kapoor']\n",
      "['Randeep Hooda']\n",
      "['Emraan Hashmi']\n",
      "['Mallika Sherawat']\n",
      "['Sanjay Singh']\n",
      "['Tiger Shroff']\n",
      "['Sanjay Dutt']\n",
      "['Kiron Kher']\n",
      "['Alieesa P Badresia']\n",
      "['Abhishek Bachchan']\n",
      "['Linda Arsenio']\n",
      "['Paresh Rawal']\n",
      "['Rahul Bose']\n",
      "['Mohsin']\n",
      "['Shiv Panditt']\n",
      "['Shakti Kapoor']\n",
      "['Karanvir Bohra']\n",
      "['Taapsee Pannu']\n",
      "['Viineet Kumar']\n",
      "['Sammir Dattani']\n",
      "['Salman Khan']\n",
      "['Saqib Saleem']\n",
      "['Prithviraj Kapoor']\n",
      "['Anil Kapoor']\n",
      "['Emraan Hashmi']\n",
      "['Prashant Narayanan']\n",
      "['Anupam Kher']\n",
      "['Dev Anand']\n",
      "['Saurav Chakraborty']\n",
      "['Nawazuddin Siddiqui']\n",
      "['Shabana Azmi']\n",
      "['Vijay Varma']\n",
      "['Ashutosh Rana']\n",
      "['Govinda']\n",
      "['Sridevi']\n",
      "['Hrithik Roshan']\n",
      "['Sunny Deol']\n",
      "['Neha Dhupia']\n",
      "['Hazel Croney']\n",
      "['Jackky Bhagnani']\n",
      "['Akshay Kumar']\n",
      "['Vivek Oberoi']\n",
      "['Manoj Bajpayee']\n",
      "['Rahul Bagga']\n",
      "['Harshvardhan Kapoor']\n",
      "['Arunoday Singh']\n",
      "['Chirag Paswan']\n",
      "['Kareena Kapoor']\n",
      "['Manish Paul']\n",
      "['Ayushmann Khurrana']\n",
      "['Akshay Kumar']\n",
      "['Rasika Agashe']\n",
      "['Akshay Kumar']\n",
      "['Yash Acharya']\n",
      "['Sunil Shetty']\n",
      "['Saqib Saleem']\n",
      "['Imran Khan']\n",
      "['Paresh Rawal']\n",
      "['Prabhu Deva']\n",
      "['Deepti Naval']\n",
      "['Puru Chibber']\n",
      "['Jaideep Ahlawat']\n",
      "['Anupam Kher']\n",
      "['Tabu']\n",
      "['Sonu Sood']\n",
      "['Shahid Kapoor']\n",
      "['Tulip Joshi']\n",
      "['Imran Khan']\n",
      "['Rahul Bagga']\n",
      "['Tusshar Kapoor']\n",
      "['Aftab Shivdasani']\n",
      "['Richa Chadha']\n",
      "['Priyanka Chopra']\n",
      "['Archana Joglekar']\n",
      "['Manisha Koirala']\n",
      "['Riteish Deshmukh']\n",
      "['Salman Khan']\n",
      "['Kalki Koechlin']\n",
      "['Rani Mukerji']\n",
      "['Rani Mukerji']\n",
      "['Abhimanyu Dasani']\n",
      "['Irrfan Khan']\n",
      "['Rajat Kapoor']\n",
      "['Nawazuddin Siddiqui']\n",
      "['Abhay Deol']\n",
      "['Taapsee Pannu']\n",
      "['Anjori Alagh']\n",
      "['Nawazuddin Siddiqui']\n",
      "['Kangana Ranaut']\n",
      "['Aamir Khan']\n",
      "['Akanksha']\n",
      "['Paresh Rawal']\n",
      "['Salman Khan']\n",
      "['Anupam Kher']\n",
      "['Varun Dhawan']\n",
      "['Hrithik Roshan']\n",
      "['Rajpal Yadav']\n",
      "['Antara Mali']\n",
      "['Juhi Chawla']\n",
      "['Smitha Gondkar']\n",
      "['Shah Rukh Khan']\n",
      "['Salman Khan']\n",
      "['Barun Sobti']\n",
      "['Ajay Devgn']\n",
      "['Asha Bhosle']\n",
      "['Sooraj Balaji']\n",
      "['John Abraham']\n",
      "['Bipasha Basu']\n",
      "['Rajkummar Rao']\n",
      "['Irrfan Khan']\n",
      "['Saahil Prem']\n",
      "['Kiara Advani']\n",
      "['Swara Bhaskar']\n",
      "['Sumit Nijhawan']\n",
      "['Raveena Tandon']\n",
      "['Mallika Sherawat']\n",
      "['Ashok Insan']\n",
      "['Gurmeet Ram Rahim Singh']\n",
      "['Charanpreet Insan']\n",
      "['Menekka Arora']\n",
      "['Sushant Singh Rajput']\n",
      "['Tom Alter']\n",
      "['Tanuj Virwani']\n",
      "['V. Ravichandran']\n",
      "['Salman Khan']\n",
      "['Arvinder Bhatti']\n",
      "['Farhan Akhtar']\n",
      "['Adhyayan Suman']\n",
      "['Farhan Akhtar']\n",
      "['Mithun Chakraborty']\n",
      "['Girish Taurani']\n",
      "['Vicky Kaushal']\n",
      "['Joy Mukherjee']\n",
      "['Tusshar Kapoor']\n",
      "['Harman Baweja']\n",
      "['Abhishek Bharate']\n",
      "['Anuj Sachdeva']\n",
      "['Nushrat Bharucha']\n",
      "['Rishi Kapoor']\n",
      "['Patralekhaa Paul']\n",
      "['Zayed Khan']\n",
      "['Saif Ali Khan']\n",
      "['Ranveer Singh']\n",
      "['Salman Khan']\n",
      "['Shabana Azmi']\n",
      "['Himanshu Bhatt']\n",
      "['John Abraham']\n",
      "['Farooq Shaikh']\n",
      "['Aahana Kumra']\n",
      "['Dharmendra']\n",
      "['Govinda']\n",
      "['Aftab Shivdasani']\n",
      "['Kay Kay Menon']\n",
      "['Manoj Amarnani']\n",
      "['Rituparna Sengupta']\n",
      "['Armaan Jain']\n",
      "['Sanjay Dutt']\n",
      "['Hrithik Roshan']\n",
      "['Monali Thakur']\n",
      "['Sunny Deol']\n",
      "['Avinash Tiwary']\n",
      "['Farooq Shaikh']\n",
      "['Sanjay Dutt']\n",
      "['Neil Nitin Mukesh']\n",
      "['Ranveer Singh']\n",
      "['Randeep Hooda']\n",
      "['Rani Mukerji']\n",
      "['Sanjay Dutt']\n",
      "['Amitabh Bachchan']\n",
      "['Salman Khan']\n",
      "['Riteish Deshmukh']\n",
      "['Tusshar Kapoor']\n",
      "['Tusshar Kapoor']\n",
      "['Tusshar Kapoor']\n",
      "['Vijay Raaz']\n",
      "['Rajpal Yadav']\n",
      "['Lewis Tan']\n",
      "['Siddharth Gupta']\n",
      "['Rekha']\n",
      "['Arshad Warsi']\n",
      "['Geetanjali Thapa']\n",
      "['Aishwarya Rai Bachchan']\n",
      "['Ram Kapoor']\n",
      "['Tusshar Kapoor']\n",
      "['Shefali Shah']\n",
      "['Rekha']\n",
      "['Sohail Khan']\n",
      "['Manoj Bajpayee']\n",
      "['Juhi Chawla']\n",
      "['Kannan Arunachalam']\n",
      "['Rekha']\n",
      "['Dia Mirza']\n",
      "['Aftab Shivdasani']\n",
      "['Sanjay Dutt']\n",
      "['Hrithik Roshan']\n",
      "['Arshad Warsi']\n",
      "['Vivek Oberoi']\n",
      "['Vivek Oberoi']\n",
      "['Shahid Kapoor']\n",
      "['Bobby Deol']\n",
      "['Jackie Shroff']\n",
      "['Kapil Sharma']\n",
      "['Mallika Sherawat']\n",
      "['Ranveer Singh']\n",
      "['Salman Khan']\n",
      "['Amitabh Bachchan']\n",
      "['Himanshu Malik']\n",
      "['Simer Motiani']\n",
      "['Fardeen Khan']\n",
      "['Sunny Deol']\n",
      "['Shiney Ahuja']\n",
      "['Anupam Kher']\n",
      "['Sonam Kapoor']\n",
      "['Supriya Pathak']\n",
      "['Sunny Deol']\n",
      "['Hazel Croney']\n",
      "['Akshay Kumar']\n",
      "['Rahul Jaiswal']\n",
      "['Gurmeet Choudhary']\n",
      "['Prabhu Deva']\n",
      "['Shilpa Shetty Kundra']\n",
      "['Kiron Kher']\n",
      "['Amitabh Bachchan']\n",
      "['Vinay Pathak']\n",
      "['Akshay Kumar']\n",
      "['Shahbaaz Khan']\n",
      "['Kunal Kapoor']\n",
      "['Raqesh Bapat']\n",
      "['Suhaas Ahuja']\n",
      "['Juhi Babbar']\n",
      "['Lucky Ali']\n",
      "['Himesh Reshammiya']\n",
      "['Irrfan Khan']\n",
      "['Siddhartha Gupta']\n",
      "['Rati Agnihotri']\n",
      "['Shiv Darshan']\n",
      "['Mahek Chahal']\n",
      "['John Abraham']\n",
      "['Sidharth Malhotra']\n",
      "['Shahid Kapoor']\n",
      "['Kunal Khemu']\n",
      "['Varun Dhawan']\n",
      "['Shah Rukh Khan']\n",
      "['Amit Hingorani']\n",
      "['Rajkummar Rao']\n",
      "['Eesha Agarwal']\n",
      "['Vidya Balan']\n",
      "['Om Puri']\n",
      "['Sanjay Mishra']\n",
      "['John Abraham']\n",
      "['Shahid Kapoor']\n",
      "['Amitabh Bachchan']\n",
      "['Aishwarya Devan']\n",
      "['Amitabh Bachchan']\n",
      "['Kartik Aaryan']\n",
      "['Aditya Srivastava']\n",
      "['Saif Ali Khan']\n",
      "['Ajay Devgn']\n",
      "['Vinay Pathak']\n",
      "['Hrithik Roshan']\n",
      "['Fardeen Khan']\n",
      "['Kamal Adib']\n",
      "['Pulkit Samrat']\n",
      "['Vidyut Jammwal']\n",
      "['Nishikant Kamat']\n",
      "['Neha Dhupia']\n",
      "['Sadhana Singh']\n",
      "['Varun Dhawan']\n",
      "['Kangana Ranaut']\n",
      "['Arshad Warsi']\n",
      "['Akshay Kumar']\n",
      "['Dharmendra']\n",
      "['Naseeruddin Shah']\n",
      "['Victor Banerjee']\n",
      "['Bipasha Basu']\n",
      "['Hrithik Roshan']\n",
      "['Sunny Gill']\n",
      "['Sunny Deol']\n",
      "['Bipasha Basu']\n",
      "['Mimoh Chakraborty']\n",
      "['Nassar Abdulla']\n",
      "['Harshvardhan Deo']\n",
      "['Richa Chadha']\n",
      "['Rishi Kapoor']\n",
      "['John Abraham']\n",
      "['Abhishek Bachchan']\n",
      "['Sanjay Suri']\n",
      "['Boman Irani']\n",
      "['Arbaaz Khan']\n",
      "['Ravi Kishan']\n",
      "['Aishwarya Rai Bachchan']\n",
      "['Vivek Oberoi']\n",
      "['Emraan Hashmi']\n",
      "['Amardeep Insan']\n",
      "['Emraan Hashmi']\n",
      "['Feroz Khan']\n",
      "['Mohit Ahlawat']\n",
      "['Harish Chabbra']\n",
      "['Rhea Chakraborty']\n",
      "['Purab Kohli']\n",
      "['Javed Jaffrey']\n",
      "['Manoj Bajpayee']\n",
      "['Fardeen Khan']\n",
      "['Rati Agnihotri']\n",
      "['Salman Khan']\n",
      "['Priyanka Chopra']\n",
      "['Chiranjeevi']\n",
      "['Govinda']\n",
      "['Ranbir Kapoor']\n",
      "['Naseeruddin Shah']\n",
      "['Amit Sadh']\n",
      "['Sidharth Malhotra']\n",
      "['Shahid Kapoor']\n",
      "['Shah Rukh Khan']\n",
      "['Shah Rukh Khan']\n",
      "['Akshay Anand']\n",
      "['Priyanka Chopra']\n",
      "['Aftab Shivdasani']\n",
      "['Salman Khan']\n",
      "['Sunny Deol']\n",
      "['Rina Charaniya']\n",
      "['Sanjeev Bhaskar']\n",
      "['Prateik']\n",
      "['Vinay Pathak']\n",
      "['Akshay Oberoi']\n",
      "['Vidya Balan']\n",
      "['Manish Anand']\n",
      "['Mimoh Chakraborty']\n",
      "['Shahid Kapoor']\n",
      "['Rishi Verma']\n",
      "['Dino Morea']\n",
      "['Krishna Chaturvedi']\n",
      "['Sara Loren']\n",
      "['Preity Zinta']\n",
      "['Arjun Kapoor']\n",
      "['Madhavan']\n",
      "['Naseeruddin Shah']\n",
      "['Amarjeet']\n",
      "['Shreyas Talpade']\n",
      "['Manoj Bajpayee']\n",
      "['Ashmit Patel']\n",
      "['Akshay Kumar']\n",
      "['Dino Morea']\n",
      "['Arjun Rampal']\n",
      "['Kirti Kulhari']\n",
      "['Jaz Pandher']\n",
      "['Arjun Kapoor']\n",
      "['Vivek Sudershan']\n",
      "['Arjun Rampal']\n",
      "['Sohail Khan']\n",
      "['Sunny Deol']\n",
      "['Shakti Anand']\n",
      "['Imran Khan']\n",
      "['Gulshan Grover']\n",
      "['Juhi Chawla']\n",
      "['Tisca Chopra']\n",
      "['Gulshan Devaiah']\n",
      "['Akshaye Khanna']\n",
      "['Saif Ali Khan']\n",
      "['Varun Dhawan']\n",
      "['Omkar Bhatkar']\n",
      "['Arjun Rampal']\n",
      "['Akshay Kumar']\n",
      "['Karanvir Bohra']\n",
      "['Shah Rukh Khan']\n",
      "['Tusshar Kapoor']\n",
      "['Arshad Warsi']\n",
      "['Saif Ali Khan']\n",
      "['Anupam Kher']\n",
      "['Prit Kamani']\n",
      "['Akshaye Khanna']\n",
      "['Akshay Kumar']\n",
      "['Akshay Kumar']\n",
      "['Akshay Kumar']\n",
      "['Adil Hussain']\n",
      "['Vatsal Sheth']\n",
      "['Karan Kundrra']\n",
      "['Naseeruddin Shah']\n",
      "['Zara Sheikh']\n",
      "['Ranvir Shorey']\n",
      "['Vivek Oberoi']\n",
      "['Akshay Kumar']\n",
      "['Onjolee Nair']\n",
      "['Mallika Sherawat']\n",
      "['Irrfan Khan']\n",
      "['Gurmeet Ram Rahim Singh']\n",
      "['Ajay Devgn']\n",
      "['Alia Bhatt']\n",
      "['Sumeet Vyas']\n",
      "['Rani Mukerji']\n",
      "['Juanna Sanghvi']\n",
      "['Ganesh Acharya']\n",
      "['Tiger Shroff']\n",
      "['Kareena Kapoor']\n",
      "['Sohail Khan']\n",
      "['Suraj Pancholi']\n",
      "['Bobby Deol']\n",
      "['Gul Panag']\n",
      "['Sharman Joshi']\n",
      "['Kajol']\n",
      "['Adhyayan Suman']\n",
      "['Kay Kay Menon']\n",
      "['Babbu Mann']\n",
      "['Shawar Ali']\n",
      "['Naman Jain']\n",
      "['Makrand Deshpande']\n",
      "['Tabu']\n",
      "['Aniket Vishwasrao']\n",
      "['Mimoh Chakraborty']\n",
      "['Akshay Kumar']\n",
      "['Nana Patekar']\n",
      "['Lee Byford']\n",
      "['Jay Bhanushali']\n",
      "['Nikhil Dwivedi']\n",
      "['Jimmy Sheirgill']\n",
      "['Shraddha Kapoor']\n",
      "['Sidharth Malhotra']\n",
      "['Jackie Shroff']\n",
      "['Nawazuddin Siddiqui']\n",
      "['Sonakshi Sinha']\n",
      "['Shah Rukh Khan']\n",
      "['Anay']\n",
      "['Saif Ali Khan']\n",
      "['Diana Penty']\n",
      "['Mukesh Khanna']\n",
      "['Talha Arshad Reshi']\n",
      "['Rajkummar Rao']\n",
      "['Ajay Devgn']\n",
      "['Paoli Dam']\n",
      "['Shraddha Kapoor']\n",
      "['Tabu']\n",
      "['Sahil Anand']\n",
      "['Jimmy Sheirgill']\n",
      "['Amita Pathak']\n",
      "['Hrithik Roshan']\n",
      "['Mithun Chakraborty']\n",
      "['Ranveer Singh']\n",
      "['Dino Morea']\n",
      "['Ranveer Singh']\n",
      "['Sampat Pal Devi']\n",
      "['Kay Kay Menon']\n",
      "['Madhuri Dixit']\n",
      "['Kartik Aaryan']\n",
      "['Arshad Warsi']\n",
      "['Kunal Khemu']\n",
      "['Vikram Dasu']\n",
      "['Urvashi Rautela']\n",
      "['Vivek Oberoi']\n",
      "['Vinay Pathak']\n",
      "['Imran Khan']\n",
      "['Akshay Kumar']\n",
      "['Tusshar Kapoor']\n",
      "['Deepika Amin']\n",
      "['Ajay Devgn']\n",
      "['Ajay Devgn']\n",
      "['Ajay Devgn']\n",
      "['Dimple Kapadia']\n",
      "['Ranveer Singh']\n",
      "['Akshay Kumar']\n",
      "['Amitabh Bachchan']\n",
      "['John Abraham']\n",
      "['Saif Ali Khan']\n",
      "['Gautam Gupta']\n",
      "['Pankaj Tripathi']\n",
      "['Isha Koppikar']\n",
      "['Riya Vij']\n",
      "['Sanaya Irani']\n",
      "['Shiney Ahuja']\n",
      "['Sunny Deol']\n",
      "['Vidya Balan']\n",
      "['Aamir Khan']\n",
      "['Utkarsh Sharma']\n",
      "['Tusshar Kapoor']\n",
      "['Mohan Azaad']\n",
      "['Naresh Sharma']\n",
      "['Salman Khan']\n",
      "['Akshay Kumar']\n",
      "['Kangana Ranaut']\n",
      "['Manoj Bajpayee']\n",
      "['Manoj Bajpayee']\n",
      "['Sarita Joshi']\n",
      "['Ajay Devgn']\n",
      "['Sharman Joshi']\n",
      "['Akshaye Khanna']\n",
      "['Abhishek Bachchan']\n",
      "['Manoj Bajpayee']\n",
      "['Akshay Kumar']\n",
      "['Akshay Kumar']\n",
      "['Rajveer Ankur Singh']\n",
      "['Rushali Arora']\n",
      "['Siddharth Koirala']\n",
      "['Pulkit Samrat']\n",
      "['Pulkit Samrat']\n",
      "['Jimmy Sheirgill']\n",
      "['Shubham']\n",
      "['Govinda']\n",
      "['Atmaram Bhende']\n",
      "['Bidita Bag']\n",
      "['Avinash Dhyani']\n",
      "['Nawazuddin Siddiqui']\n",
      "['Arshad Warsi']\n",
      "['Arjun Rampal']\n",
      "['John Abraham']\n",
      "['John Abraham']\n",
      "['Aftab Shivdasani']\n",
      "['Shahid Kapoor']\n",
      "['Reef Karim']\n",
      "['Jayesh Raj']\n",
      "['Aditya Roy Kapoor']\n",
      "['Kapil Sharma']\n",
      "['Inaamulhaq']\n",
      "['Deepika Padukone']\n",
      "['Sharib Hashmi']\n",
      "['Sunil Shetty']\n",
      "['Kareena Kapoor']\n",
      "['Rajeev Khandelwal']\n",
      "['Sharman Joshi']\n",
      "['Gul Panag']\n",
      "['Priyanka Chopra']\n",
      "['Shilpa Shetty Kundra']\n",
      "['Aamir Khan']\n",
      "['Shah Rukh Khan']\n",
      "['Arjun Rampal']\n",
      "['Jimmy Sheirgill']\n",
      "['Amitabh Bachchan']\n",
      "['Arshad Warsi']\n",
      "['Mona Ambegaonkar']\n",
      "['Manisha Koirala']\n",
      "['Akshay Kumar']\n",
      "['Sridevi']\n",
      "['Sunil Shetty']\n",
      "['Arjun Rampal']\n",
      "['Amitabh Bachchan']\n",
      "['Anupam Kher']\n",
      "['Prateik']\n",
      "['Bobby Deol']\n",
      "['Isha Koppikar']\n",
      "['Sidharth Malhotra']\n",
      "['Hema Malini']\n",
      "['Emraan Hashmi']\n",
      "['Salman Khan']\n",
      "['Bhushan Agarwal']\n",
      "['Anita']\n",
      "['Sunil Shetty']\n",
      "['Sunny Leone']\n",
      "['Kareena Kapoor']\n",
      "['Fardeen Khan']\n",
      "['Jimmy Sharma']\n",
      "['Saif Ali Khan']\n",
      "['Shiv Darshan']\n",
      "['Rahul Bose']\n",
      "['Abhay Deol']\n",
      "['Sanjay Dutt']\n",
      "['Nandita Das']\n",
      "['Amitabh Bachchan']\n",
      "['Raj Tara']\n",
      "['Arbaaz Khan']\n",
      "['Sanjay Dutt']\n",
      "['Zeenat Aman']\n",
      "['Abhishek Bachchan']\n",
      "['Ayushmann Khurrana']\n",
      "['Vivek Oberoi']\n",
      "['Sushmita Sen']\n",
      "['Diwakar Pathak']\n",
      "['Jayshree Arora']\n",
      "['Ajay Devgn']\n",
      "['Aseel Adel']\n",
      "['Ayushmann Khurrana']\n",
      "['Sanjay Dutt']\n",
      "['Ayesha Jhulka']\n",
      "['Akshay Kumar']\n",
      "['Abhishek Bachchan']\n",
      "['Ayesha Takia']\n",
      "['Ronit Roy']\n",
      "['Rishi Kapoor']\n",
      "['Mithun Chakraborty']\n",
      "['Shah Rukh Khan']\n",
      "['Shah Rukh Khan']\n",
      "['Malaika Arora']\n",
      "['Jackie Shroff']\n",
      "['Adil Hussain']\n",
      "['Kajal Aggarwal']\n",
      "['Rishi Kapoor']\n",
      "['John Abraham']\n",
      "['Harman Baweja']\n",
      "['Anupam Kher']\n",
      "['Rajniesh Duggall']\n",
      "['Shah Rukh Khan']\n",
      "['Ira Dubey']\n",
      "['Zeenat Aman']\n",
      "['Ajay Devgn']\n",
      "['Kapil Jhaveri']\n",
      "['Salman Khan']\n",
      "['Shahid Kapoor']\n",
      "['Irrfan Khan']\n",
      "['Arjun Rampal']\n",
      "['Taapsee Pannu']\n",
      "['Himansh Kohli']\n",
      "['Amitabh Bachchan']\n",
      "['Imaaduddin Shah']\n",
      "['Emraan Hashmi']\n",
      "['Anil Kapoor']\n",
      "['Shahid Kapoor']\n",
      "['Vikaas Kalantari']\n",
      "['Sushant Singh Rajput']\n",
      "['Amar Upadhyaya']\n",
      "['Om Puri']\n",
      "['Paresh Rawal']\n",
      "['Aamir Khan']\n",
      "['Hrithik Roshan']\n",
      "['Abhishek Bachchan']\n",
      "['Sharman Joshi']\n",
      "['Muzamil Ibrahim']\n",
      "['Prateik']\n",
      "['Ajay Devgn']\n",
      "['Pankaj Kapur']\n",
      "['Naseeruddin Shah']\n",
      "['Krrish Chhabria']\n",
      "['Sanjay Dutt']\n",
      "['Ishaan Khattar']\n",
      "['RJ Balaji']\n",
      "['Shah Rukh Khan']\n",
      "['Ram Kapoor']\n",
      "['Amitabh Bachchan']\n",
      "['Sushant Singh Rajput']\n",
      "['Sasha Aagha']\n",
      "['Akshay Kumar']\n",
      "['Kamal Rashid Khan']\n",
      "['Sanjay Dutt']\n",
      "['Waheeda Rehman']\n",
      "['Cary Elwes']\n",
      "['Imran Khan']\n",
      "['Satish Kaushik']\n",
      "['Adhyayan Suman']\n",
      "['Akshay Kumar']\n",
      "['Amitabh Bachchan']\n",
      "['Madhuri Dixit']\n",
      "['Alia Bhatt']\n",
      "['Manisha Koirala']\n",
      "['Raghuvir Yadav']\n",
      "['Arvind Swamy']\n",
      "['Rajit Kapoor']\n",
      "['Aftab Shivdasani']\n",
      "['Ajay Devgn']\n",
      "['Akshay Kumar']\n",
      "['Yash Soni']\n",
      "['Vinay Pathak']\n",
      "['Neil Nitin Mukesh']\n",
      "['Ishrat Ali']\n",
      "['Jimmy Sheirgill']\n",
      "['Amitabh Bachchan']\n",
      "['Sameera Reddy']\n",
      "['Fardeen Khan']\n",
      "['Karisma Kapoor']\n",
      "['Aamir Khan']\n",
      "['Himesh Reshammiya']\n",
      "['Sunil Shetty']\n",
      "['Arjun Rampal']\n",
      "['Salman Khan']\n",
      "['Salman Khan']\n",
      "['Salman Khan']\n",
      "['Aditya Roy Kapoor']\n",
      "['Yogesh Raj Mishra']\n",
      "['Rishi Kapoor']\n",
      "['Randeep Hooda']\n",
      "['Emraan Hashmi']\n",
      "['Bipasha Basu']\n",
      "['Swanand Kirkire']\n",
      "['Vira Sathidar']\n",
      "['Bipasha Basu']\n",
      "['Adhvik Mahajan']\n",
      "['Ajay Devgn']\n",
      "['Vidyut Jammwal']\n",
      "['Vidyut Jammwal']\n",
      "['Sunil Grover']\n",
      "['Arjun Mathur']\n",
      "['Saif Ali Khan']\n",
      "['Shreyas Talpade']\n",
      "['Mithun Chakraborty']\n",
      "['Rajkummar Rao']\n",
      "['Sachin Khedekar']\n",
      "['Ashok Banthia']\n",
      "['Zayed Khan']\n",
      "['Kareena Kapoor']\n",
      "['Ajay Devgn']\n",
      "['Deepak Dobriyal']\n",
      "['Anil Kapoor']\n",
      "['Manoj Bajpayee']\n",
      "['Rishi Kapoor']\n",
      "['Sushmita Sen']\n",
      "['Parveen Kaur']\n",
      "['Aarav Khanna']\n",
      "['Farooq Shaikh']\n",
      "['Mohammad Amir Naji']\n",
      "['Natalia Janoszek']\n",
      "['Rupa Bhimani']\n",
      "['Jimmy Sheirgill']\n",
      "['Jatin Grewal']\n",
      "['Deepika Padukone']\n",
      "['Bipasha Basu']\n",
      "['Saif Ali Khan']\n",
      "['Amitabh Bachchan']\n",
      "['Sanjay Dutt']\n",
      "['Ali Zafar']\n",
      "['Anuj Saxena']\n",
      "['Dev Anand']\n",
      "['Jimmy Sheirgill']\n",
      "['Mithun Chakraborty']\n",
      "['Samir Aftab']\n",
      "['Somesh Agarwal']\n",
      "['Shahid Kapoor']\n",
      "['Bobby Deol']\n",
      "['Kareena Kapoor']\n",
      "['Shah Rukh Khan']\n",
      "['Vinay Pathak']\n",
      "['Vickrant Mahajan']\n",
      "['Richa Chadha']\n",
      "['Sagar Bhangade']\n",
      "['Asrani']\n",
      "['Arjun Rampal']\n",
      "['Shah Rukh Khan']\n",
      "['Soha Ali Khan']\n",
      "['Tusshar Kapoor']\n",
      "['Naseeruddin Shah']\n",
      "['Aryan Vaid']\n",
      "['Ajay Devgn']\n",
      "['Akanksha Puri']\n",
      "['Anil Kapoor']\n",
      "['Hemant Gopal']\n",
      "['Tusshar Kapoor']\n",
      "['Neil Nitin Mukesh']\n",
      "['Abhishek Bachchan']\n",
      "['Seema Azmi']\n",
      "['Atul Kulkarni']\n",
      "['Kavin Dave']\n",
      "['Saif Ali Khan']\n",
      "['Saayli Buva']\n",
      "['Aanchal Dwivedi']\n",
      "['Mona Ambegaonkar']\n",
      "['Apoorva Arora']\n",
      "['Akshay Kumar']\n",
      "['Arjun Mathur']\n",
      "['Vinay Virmani']\n",
      "['Deepika Padukone']\n",
      "['Shashank Arora']\n",
      "['Akshay Kumar']\n",
      "['Sanjay Dutt']\n",
      "['Amitabh Bachchan']\n",
      "['Sunil Pal']\n",
      "['Shreyas Talpade']\n",
      "['Ranbir Kapoor']\n",
      "['Rani Mukerji']\n",
      "['Radhika Apte']\n",
      "['Raima Sen']\n",
      "['Amitabh Bachchan']\n",
      "['Salman Khan']\n",
      "['Vidya Balan']\n",
      "['Abhishek Bachchan']\n",
      "['Akshay Kumar']\n",
      "['Akash']\n",
      "['Manish Chaudhary']\n",
      "['Jazzy Doe']\n",
      "['Ajay Devgn']\n",
      "['Kay Kay Menon']\n",
      "['Amitabh Bachchan']\n",
      "['Pulkit Samrat']\n",
      "['Danny Denzongpa']\n",
      "['Naushaad Abbas']\n",
      "['Irrfan Khan']\n",
      "['Sunny Deol']\n",
      "['Dino Morea']\n",
      "['Mischa Barton']\n",
      "['Amitabh Bachchan']\n",
      "['Amitabh Bachchan']\n",
      "['Jackie Shroff']\n",
      "['J.D. Chakravarthi']\n",
      "['Ajay Devgn']\n",
      "['Sunny Leone']\n",
      "['Akshay Kumar']\n",
      "['Ali Asgar']\n",
      "['Vinay Pathak']\n",
      "['Vinay Pathak']\n",
      "['Harshvardhan Kapoor']\n",
      "['Shaurya Singh']\n",
      "['Sunny Deol']\n",
      "['Tabu']\n",
      "['Akshay Kumar']\n",
      "['Farhan Akhtar']\n",
      "['Kunal Khemu']\n",
      "['Mugdha Godse']\n",
      "['Ishaan Khattar']\n",
      "['Ayushmann Khurrana']\n",
      "['Anil Kapoor']\n",
      "['Naseeruddin Shah']\n",
      "['Sunny Leone']\n",
      "['Rajkummar Rao']\n",
      "['Amitabh Bachchan']\n",
      "['Vaani Kapoor']\n",
      "['Amitabh Bachchan']\n",
      "['Reshmi Ghosh']\n",
      "['Shahid Kapoor']\n",
      "['Vicky Ahuja']\n",
      "['John Abraham']\n",
      "['Sadashiv Amrapurkar']\n",
      "['Juhi Chawla']\n",
      "['Bobby Deol']\n",
      "['Sara Loren']\n",
      "['Ranbir Kapoor']\n",
      "['Ayushmann Khurrana']\n",
      "['Bobby Deol']\n",
      "['Naseeruddin Shah']\n",
      "['Riteish Deshmukh']\n",
      "['Riteish Deshmukh']\n",
      "['Jacqueline Fernandez']\n",
      "['Hrithik Roshan']\n",
      "['Manisha Kelkar']\n",
      "['Ranveer Singh']\n",
      "['Urmila Matondkar']\n",
      "['Asrani']\n",
      "['Ayushmann Khurrana']\n",
      "['Salman Khan']\n",
      "['Ranveer Singh']\n",
      "['Tusshar Kapoor']\n",
      "['Amitabh Bachchan']\n",
      "['Varun Dhawan']\n",
      "['Sidhant Gupta']\n",
      "['Annu Kapoor']\n",
      "['Varun Dhawan']\n",
      "['Amitabh Bachchan']\n",
      "['Ayushmann Khurrana']\n",
      "['Ranbir Kapoor']\n",
      "['Rekha']\n",
      "['Manoj Babani']\n",
      "['Akshay Kumar']\n",
      "['Nawazuddin Siddiqui']\n",
      "['Sudha Chandran']\n",
      "['Sahil Anand']\n",
      "['Radhika Apte']\n",
      "['Jackie Shroff']\n",
      "['Anisa Butt']\n",
      "['Sidharth Malhotra']\n",
      "['Tiger Shroff']\n",
      "['Shraddha Kapoor']\n",
      "['Amitabh Bachchan']\n",
      "['Mithun Chakraborty']\n",
      "['Shadab Kamal']\n",
      "['Emraan Hashmi']\n",
      "['Emraan Hashmi']\n",
      "['Akshay Kumar']\n",
      "['Prakash Belawadi']\n",
      "['Arjun Kapoor']\n",
      "['Krishna Abhishek']\n",
      "['Asrani']\n",
      "['Arjun Rampal']\n",
      "['Sohail Khan']\n",
      "['Ayushmann Khurrana']\n",
      "['Amitabh Bachchan']\n",
      "['Yudhveer Bakoliya']\n",
      "['Diljit Dosanjh']\n",
      "['Dharmendra']\n",
      "['Bobby Darling']\n",
      "['Irrfan Khan']\n",
      "['Rohit Roy']\n",
      "['Ajay Devgn']\n",
      "['Nauheed Cyrusi']\n",
      "['Sachin Khedekar']\n",
      "['Sanjay Dutt']\n",
      "['Raj Singh Chaudhary']\n",
      "['Shashank Udapurkar']\n",
      "['Kay Kay Menon']\n",
      "['Sanjay Mishra']\n",
      "['Aftab Shivdasani']\n",
      "['Manisha Koirala']\n",
      "['Priyanka Chopra']\n",
      "['Sumit Arora']\n",
      "['Ayushmann Khurrana']\n",
      "['Akshay Kumar']\n",
      "['Akshay Kumar']\n",
      "['Dino Morea']\n",
      "['Pankaj Tripathi']\n",
      "['Vir Das']\n",
      "['Ali Asgar']\n",
      "['Lillete Dubey']\n",
      "['Aftab Shivdasani']\n",
      "['Bipasha Basu']\n",
      "['Varun Bhagwat']\n",
      "['Sanjay Dutt']\n",
      "['Rishi Kapoor']\n",
      "['Sukhesh Arora']\n",
      "['Manav Kaul']\n",
      "['Akshay Kapoor']\n",
      "['Amitabh Bachchan']\n",
      "['Zareen Khan']\n",
      "['Emraan Hashmi']\n",
      "['Kartik Aaryan']\n",
      "['Sushama Deshpande']\n",
      "['Ranbir Kapoor']\n",
      "['Jackky Bhagnani']\n",
      "['Rani Mukerji']\n",
      "['Sidharth Malhotra']\n",
      "['Akshay Kumar']\n",
      "['Yashpal Sharma']\n",
      "['Rati Agnihotri']\n",
      "['Akshay Kumar']\n",
      "['Abhay Deol']\n",
      "['Jimmy Sheirgill']\n",
      "['Hrithik Roshan']\n",
      "['Tusshar Kapoor']\n",
      "['Kareena Kapoor']\n",
      "['Amitabh Bachchan']\n",
      "['Ranbir Kapoor']\n",
      "['Rahul Dev']\n",
      "['Akshay Kumar']\n",
      "['Prabhas']\n",
      "['Fardeen Khan']\n",
      "['Farooq Shaikh']\n",
      "['Amitabh Bachchan']\n",
      "['Nana Patekar']\n",
      "['Sachiin Joshi']\n",
      "['Hrishitaa Bhatt']\n",
      "['Ishaan Manhaas']\n",
      "['Aditya Roy Kapoor']\n",
      "['Emraan Hashmi']\n",
      "['John Abraham']\n",
      "['Amitabh Bachchan']\n",
      "['Priyanshu Chatterjee']\n",
      "['Akshaye Khanna']\n",
      "['Himesh Reshammiya']\n",
      "['Amitabh Bachchan']\n",
      "['Arun Bakshi']\n",
      "['Shatrughan Sinha']\n",
      "['Omkar Das Manikpuri']\n",
      "['Ajay Devgn']\n",
      "['Paul Sidhu']\n",
      "['Madhuri Dixit']\n",
      "['Sudesh Berry']\n",
      "['Shreyas Talpade']\n",
      "['Amitabh Bachchan']\n",
      "['Naveen Bawa']\n",
      "['Govinda']\n",
      "['Neil Nitin Mukesh']\n",
      "['Prabhu Deva']\n",
      "['Sidharth Malhotra']\n",
      "['Tiger Shroff']\n",
      "['Jimmy Sheirgill']\n",
      "['Shabana Azmi']\n",
      "['Kiran Bhatia']\n",
      "['Shawar Ali']\n",
      "['Kunal Khemu']\n",
      "['Atul Kulkarni']\n",
      "['Juhi Chawla']\n",
      "['Priyanka Chopra']\n",
      "['Vipin Sharma']\n",
      "['Mouli Ganguly']\n",
      "['Nargis Fakhri']\n",
      "['Sara Arjun']\n",
      "['Neil Nitin Mukesh']\n",
      "['Akshaye Khanna']\n",
      "['Soha Ali Khan']\n",
      "['Aisha Ahmed']\n",
      "['Aamir Khan']\n",
      "['Naseeruddin Shah']\n",
      "['Salil Acharya']\n",
      "['Barun Sobti']\n",
      "['Arjun Kapoor']\n",
      "['Manoj Bajpayee']\n",
      "['Vicky Ahuja']\n",
      "['Sharman Joshi']\n",
      "['Rajniesh Duggall']\n"
     ]
    }
   ],
   "source": [
    "# looping\n",
    "for i in movies.values:\n",
    "  print(i)"
   ]
  },
  {
   "cell_type": "code",
   "execution_count": 140,
   "id": "908bb681-6c66-4139-a186-b08b48041468",
   "metadata": {},
   "outputs": [
    {
     "data": {
      "text/plain": [
       "maths      200.0\n",
       "english    157.0\n",
       "science    189.0\n",
       "hindi      200.0\n",
       "hin        200.0\n",
       "hind         NaN\n",
       "evs        200.0\n",
       "Name: student1s marks, dtype: float64"
      ]
     },
     "execution_count": 140,
     "metadata": {},
     "output_type": "execute_result"
    }
   ],
   "source": [
    "# Arithmetic Operators(Broadcasting)\n",
    "100 + marks_series"
   ]
  },
  {
   "cell_type": "code",
   "execution_count": 141,
   "id": "12f0e26a-015b-4177-b958-8c0e3f325e45",
   "metadata": {},
   "outputs": [
    {
     "data": {
      "text/html": [
       "<div>\n",
       "<style scoped>\n",
       "    .dataframe tbody tr th:only-of-type {\n",
       "        vertical-align: middle;\n",
       "    }\n",
       "\n",
       "    .dataframe tbody tr th {\n",
       "        vertical-align: top;\n",
       "    }\n",
       "\n",
       "    .dataframe thead th {\n",
       "        text-align: right;\n",
       "    }\n",
       "</style>\n",
       "<table border=\"1\" class=\"dataframe\">\n",
       "  <thead>\n",
       "    <tr style=\"text-align: right;\">\n",
       "      <th></th>\n",
       "      <th>runs</th>\n",
       "    </tr>\n",
       "    <tr>\n",
       "      <th>match_no</th>\n",
       "      <th></th>\n",
       "    </tr>\n",
       "  </thead>\n",
       "  <tbody>\n",
       "    <tr>\n",
       "      <th>87</th>\n",
       "      <td>False</td>\n",
       "    </tr>\n",
       "    <tr>\n",
       "      <th>211</th>\n",
       "      <td>False</td>\n",
       "    </tr>\n",
       "    <tr>\n",
       "      <th>207</th>\n",
       "      <td>False</td>\n",
       "    </tr>\n",
       "    <tr>\n",
       "      <th>206</th>\n",
       "      <td>False</td>\n",
       "    </tr>\n",
       "    <tr>\n",
       "      <th>91</th>\n",
       "      <td>False</td>\n",
       "    </tr>\n",
       "    <tr>\n",
       "      <th>...</th>\n",
       "      <td>...</td>\n",
       "    </tr>\n",
       "    <tr>\n",
       "      <th>164</th>\n",
       "      <td>True</td>\n",
       "    </tr>\n",
       "    <tr>\n",
       "      <th>120</th>\n",
       "      <td>True</td>\n",
       "    </tr>\n",
       "    <tr>\n",
       "      <th>123</th>\n",
       "      <td>True</td>\n",
       "    </tr>\n",
       "    <tr>\n",
       "      <th>126</th>\n",
       "      <td>True</td>\n",
       "    </tr>\n",
       "    <tr>\n",
       "      <th>128</th>\n",
       "      <td>True</td>\n",
       "    </tr>\n",
       "  </tbody>\n",
       "</table>\n",
       "<p>215 rows × 1 columns</p>\n",
       "</div>"
      ],
      "text/plain": [
       "           runs\n",
       "match_no       \n",
       "87        False\n",
       "211       False\n",
       "207       False\n",
       "206       False\n",
       "91        False\n",
       "...         ...\n",
       "164        True\n",
       "120        True\n",
       "123        True\n",
       "126        True\n",
       "128        True\n",
       "\n",
       "[215 rows x 1 columns]"
      ]
     },
     "execution_count": 141,
     "metadata": {},
     "output_type": "execute_result"
    }
   ],
   "source": [
    "# Relational Operators\n",
    "\n",
    "vk >= 50"
   ]
  },
  {
   "cell_type": "code",
   "execution_count": 142,
   "id": "1e38776d-6f6c-4ccc-9703-0d8089b6da62",
   "metadata": {},
   "outputs": [
    {
     "data": {
      "text/plain": [
       "runs    50\n",
       "dtype: int64"
      ]
     },
     "execution_count": 142,
     "metadata": {},
     "output_type": "execute_result"
    }
   ],
   "source": [
    "# Find no of 50's and 100's scored by kohli\n",
    "vk[vk >= 50].count()\n"
   ]
  },
  {
   "cell_type": "code",
   "execution_count": 143,
   "id": "af6555a6-3617-4506-b59e-59c6a12d16da",
   "metadata": {},
   "outputs": [
    {
     "data": {
      "text/plain": [
       "runs    9\n",
       "dtype: int64"
      ]
     },
     "execution_count": 143,
     "metadata": {},
     "output_type": "execute_result"
    }
   ],
   "source": [
    "vk[vk == 0].count()"
   ]
  },
  {
   "cell_type": "code",
   "execution_count": 144,
   "id": "14870f44-0200-413b-90c9-d0702029aed1",
   "metadata": {},
   "outputs": [
    {
     "data": {
      "text/plain": [
       "Subscribers gained    59\n",
       "dtype: int64"
      ]
     },
     "execution_count": 144,
     "metadata": {},
     "output_type": "execute_result"
    }
   ],
   "source": [
    "# Count number of day when I had more than 200 subs a day\n",
    "subs[subs > 200].count()"
   ]
  },
  {
   "cell_type": "code",
   "execution_count": 145,
   "id": "a40dae4b-8503-4f99-b9e1-d2a5a4c1c748",
   "metadata": {},
   "outputs": [],
   "source": [
    "# find actors who have done more than 20 movies"
   ]
  },
  {
   "cell_type": "code",
   "execution_count": 146,
   "id": "2b31e056-b129-4718-9e70-ab2805e8260c",
   "metadata": {},
   "outputs": [
    {
     "data": {
      "text/plain": [
       "lead            \n",
       "Akshay Kumar        48\n",
       "Amitabh Bachchan    45\n",
       "Ajay Devgn          38\n",
       "Salman Khan         31\n",
       "Sanjay Dutt         26\n",
       "Shah Rukh Khan      22\n",
       "Emraan Hashmi       21\n",
       "Name: count, dtype: int64"
      ]
     },
     "execution_count": 146,
     "metadata": {},
     "output_type": "execute_result"
    }
   ],
   "source": [
    "num_movies = movies.value_counts()\n",
    "num_movies[num_movies > 20]"
   ]
  },
  {
   "cell_type": "code",
   "execution_count": 147,
   "id": "2865f9cd-e88d-4e9f-a863-ab6e3502fa0d",
   "metadata": {},
   "outputs": [
    {
     "data": {
      "text/plain": [
       "<Axes: >"
      ]
     },
     "execution_count": 147,
     "metadata": {},
     "output_type": "execute_result"
    },
    {
     "data": {
      "image/png": "[encoded data removed]",
      "text/plain": [
       "<Figure size 640x480 with 1 Axes>"
      ]
     },
     "metadata": {},
     "output_type": "display_data"
    }
   ],
   "source": [
    "subs.plot()"
   ]
  },
  {
   "cell_type": "code",
   "execution_count": 148,
   "id": "6cbef21c-7d32-4285-aaf4-ce8707a0c7f4",
   "metadata": {},
   "outputs": [
    {
     "data": {
      "text/plain": [
       "<Axes: ylabel='count'>"
      ]
     },
     "execution_count": 148,
     "metadata": {},
     "output_type": "execute_result"
    },
    {
     "data": {
      "image/png": "[encoded data removed]",
      "text/plain": [
       "<Figure size 640x480 with 1 Axes>"
      ]
     },
     "metadata": {},
     "output_type": "display_data"
    }
   ],
   "source": [
    "movies.value_counts().head(20).plot(kind='pie')"
   ]
  },
  {
   "cell_type": "code",
   "execution_count": 149,
   "id": "ec9ade46-0710-4b7b-9184-4a74bf4251bf",
   "metadata": {},
   "outputs": [],
   "source": [
    "# astype\n",
    "# clip\n",
    "# drop_duplicates\n",
    "# isnull\n",
    "# dropna\n",
    "# fillna\n",
    "# isin\n",
    "# copy"
   ]
  },
  {
   "cell_type": "code",
   "execution_count": 150,
   "id": "cfee7a2f-618f-4e9e-8d32-2fefebfbf73d",
   "metadata": {},
   "outputs": [
    {
     "data": {
      "text/plain": [
       "3472"
      ]
     },
     "execution_count": 150,
     "metadata": {},
     "output_type": "execute_result"
    }
   ],
   "source": [
    "# astype\n",
    "import sys\n",
    "sys.getsizeof(vk)"
   ]
  },
  {
   "cell_type": "code",
   "execution_count": 151,
   "id": "22664fa2-75bd-4d69-ab88-44dec790e7ef",
   "metadata": {},
   "outputs": [
    {
     "data": {
      "text/plain": [
       "2182"
      ]
     },
     "execution_count": 151,
     "metadata": {},
     "output_type": "execute_result"
    }
   ],
   "source": [
    "sys.getsizeof(vk.astype('int16'))"
   ]
  },
  {
   "cell_type": "code",
   "execution_count": 152,
   "id": "b4e352e3-e545-4395-951f-dc0c23fe8f4e",
   "metadata": {},
   "outputs": [
    {
     "data": {
      "text/html": [
       "<div>\n",
       "<style scoped>\n",
       "    .dataframe tbody tr th:only-of-type {\n",
       "        vertical-align: middle;\n",
       "    }\n",
       "\n",
       "    .dataframe tbody tr th {\n",
       "        vertical-align: top;\n",
       "    }\n",
       "\n",
       "    .dataframe thead th {\n",
       "        text-align: right;\n",
       "    }\n",
       "</style>\n",
       "<table border=\"1\" class=\"dataframe\">\n",
       "  <thead>\n",
       "    <tr style=\"text-align: right;\">\n",
       "      <th></th>\n",
       "      <th>Subscribers gained</th>\n",
       "    </tr>\n",
       "  </thead>\n",
       "  <tbody>\n",
       "    <tr>\n",
       "      <th>0</th>\n",
       "      <td>100</td>\n",
       "    </tr>\n",
       "    <tr>\n",
       "      <th>1</th>\n",
       "      <td>100</td>\n",
       "    </tr>\n",
       "    <tr>\n",
       "      <th>2</th>\n",
       "      <td>100</td>\n",
       "    </tr>\n",
       "    <tr>\n",
       "      <th>3</th>\n",
       "      <td>100</td>\n",
       "    </tr>\n",
       "    <tr>\n",
       "      <th>4</th>\n",
       "      <td>100</td>\n",
       "    </tr>\n",
       "    <tr>\n",
       "      <th>...</th>\n",
       "      <td>...</td>\n",
       "    </tr>\n",
       "    <tr>\n",
       "      <th>360</th>\n",
       "      <td>200</td>\n",
       "    </tr>\n",
       "    <tr>\n",
       "      <th>361</th>\n",
       "      <td>200</td>\n",
       "    </tr>\n",
       "    <tr>\n",
       "      <th>362</th>\n",
       "      <td>155</td>\n",
       "    </tr>\n",
       "    <tr>\n",
       "      <th>363</th>\n",
       "      <td>144</td>\n",
       "    </tr>\n",
       "    <tr>\n",
       "      <th>364</th>\n",
       "      <td>172</td>\n",
       "    </tr>\n",
       "  </tbody>\n",
       "</table>\n",
       "<p>365 rows × 1 columns</p>\n",
       "</div>"
      ],
      "text/plain": [
       "     Subscribers gained\n",
       "0                   100\n",
       "1                   100\n",
       "2                   100\n",
       "3                   100\n",
       "4                   100\n",
       "..                  ...\n",
       "360                 200\n",
       "361                 200\n",
       "362                 155\n",
       "363                 144\n",
       "364                 172\n",
       "\n",
       "[365 rows x 1 columns]"
      ]
     },
     "execution_count": 152,
     "metadata": {},
     "output_type": "execute_result"
    }
   ],
   "source": [
    "subs.clip(100,200)"
   ]
  },
  {
   "cell_type": "code",
   "execution_count": 153,
   "id": "15a559e5-271c-4058-b79a-f7082fb6595b",
   "metadata": {},
   "outputs": [
    {
     "data": {
      "text/plain": [
       "0    1\n",
       "1    1\n",
       "2    2\n",
       "3    2\n",
       "4    3\n",
       "5    3\n",
       "6    4\n",
       "7    4\n",
       "dtype: int64"
      ]
     },
     "execution_count": 153,
     "metadata": {},
     "output_type": "execute_result"
    }
   ],
   "source": [
    "# drop_duplicates\n",
    "temp = pd.Series([1,1,2,2,3,3,4,4])\n",
    "temp"
   ]
  },
  {
   "cell_type": "code",
   "execution_count": 154,
   "id": "de8fd5ff-1e75-4553-b999-4a55e5c9ce5c",
   "metadata": {},
   "outputs": [
    {
     "data": {
      "text/plain": [
       "0    1\n",
       "2    2\n",
       "4    3\n",
       "6    4\n",
       "dtype: int64"
      ]
     },
     "execution_count": 154,
     "metadata": {},
     "output_type": "execute_result"
    }
   ],
   "source": [
    "temp.drop_duplicates()"
   ]
  },
  {
   "cell_type": "code",
   "execution_count": 155,
   "id": "be1d9fa2-e9d3-41ac-96dd-dfc2ef0b77f5",
   "metadata": {},
   "outputs": [
    {
     "data": {
      "text/plain": [
       "np.int64(4)"
      ]
     },
     "execution_count": 155,
     "metadata": {},
     "output_type": "execute_result"
    }
   ],
   "source": [
    "temp.duplicated().sum()"
   ]
  },
  {
   "cell_type": "code",
   "execution_count": 156,
   "id": "dcde2d64-522f-4c7b-b880-b1876269428c",
   "metadata": {},
   "outputs": [
    {
     "data": {
      "text/plain": [
       "np.int64(137)"
      ]
     },
     "execution_count": 156,
     "metadata": {},
     "output_type": "execute_result"
    }
   ],
   "source": [
    "vk.duplicated().sum()"
   ]
  },
  {
   "cell_type": "code",
   "execution_count": 157,
   "id": "0a1c4e1e-2087-4437-9a28-6c8a5fabcf59",
   "metadata": {},
   "outputs": [
    {
     "data": {
      "text/html": [
       "<div>\n",
       "<style scoped>\n",
       "    .dataframe tbody tr th:only-of-type {\n",
       "        vertical-align: middle;\n",
       "    }\n",
       "\n",
       "    .dataframe tbody tr th {\n",
       "        vertical-align: top;\n",
       "    }\n",
       "\n",
       "    .dataframe thead th {\n",
       "        text-align: right;\n",
       "    }\n",
       "</style>\n",
       "<table border=\"1\" class=\"dataframe\">\n",
       "  <thead>\n",
       "    <tr style=\"text-align: right;\">\n",
       "      <th></th>\n",
       "      <th>lead</th>\n",
       "    </tr>\n",
       "    <tr>\n",
       "      <th>movie</th>\n",
       "      <th></th>\n",
       "    </tr>\n",
       "  </thead>\n",
       "  <tbody>\n",
       "    <tr>\n",
       "      <th>Zor Lagaa Ke...Haiya!</th>\n",
       "      <td>Meghan Jadhav</td>\n",
       "    </tr>\n",
       "    <tr>\n",
       "      <th>Zokkomon</th>\n",
       "      <td>Darsheel Safary</td>\n",
       "    </tr>\n",
       "    <tr>\n",
       "      <th>Zindagi Tere Naam</th>\n",
       "      <td>Mithun Chakraborty</td>\n",
       "    </tr>\n",
       "    <tr>\n",
       "      <th>Zindagi Na Milegi Dobara</th>\n",
       "      <td>Hrithik Roshan</td>\n",
       "    </tr>\n",
       "    <tr>\n",
       "      <th>Zindagi 50-50</th>\n",
       "      <td>Veena Malik</td>\n",
       "    </tr>\n",
       "    <tr>\n",
       "      <th>...</th>\n",
       "      <td>...</td>\n",
       "    </tr>\n",
       "    <tr>\n",
       "      <th>68 Pages</th>\n",
       "      <td>Mouli Ganguly</td>\n",
       "    </tr>\n",
       "    <tr>\n",
       "      <th>5 Weddings</th>\n",
       "      <td>Nargis Fakhri</td>\n",
       "    </tr>\n",
       "    <tr>\n",
       "      <th>404 (film)</th>\n",
       "      <td>Sara Arjun</td>\n",
       "    </tr>\n",
       "    <tr>\n",
       "      <th>3 Storeys</th>\n",
       "      <td>Aisha Ahmed</td>\n",
       "    </tr>\n",
       "    <tr>\n",
       "      <th>3 A.M. (2014 film)</th>\n",
       "      <td>Salil Acharya</td>\n",
       "    </tr>\n",
       "  </tbody>\n",
       "</table>\n",
       "<p>566 rows × 1 columns</p>\n",
       "</div>"
      ],
      "text/plain": [
       "                                        lead\n",
       "movie                                       \n",
       "Zor Lagaa Ke...Haiya!          Meghan Jadhav\n",
       "Zokkomon                     Darsheel Safary\n",
       "Zindagi Tere Naam         Mithun Chakraborty\n",
       "Zindagi Na Milegi Dobara      Hrithik Roshan\n",
       "Zindagi 50-50                    Veena Malik\n",
       "...                                      ...\n",
       "68 Pages                       Mouli Ganguly\n",
       "5 Weddings                     Nargis Fakhri\n",
       "404 (film)                        Sara Arjun\n",
       "3 Storeys                        Aisha Ahmed\n",
       "3 A.M. (2014 film)             Salil Acharya\n",
       "\n",
       "[566 rows x 1 columns]"
      ]
     },
     "execution_count": 157,
     "metadata": {},
     "output_type": "execute_result"
    }
   ],
   "source": [
    "movies.drop_duplicates()"
   ]
  },
  {
   "cell_type": "code",
   "execution_count": 158,
   "id": "dd89ccc8-d38e-4a3a-9aa5-3f7067da22ff",
   "metadata": {},
   "outputs": [
    {
     "data": {
      "text/plain": [
       "0     1.0\n",
       "1     2.0\n",
       "2     3.0\n",
       "3     NaN\n",
       "4     5.0\n",
       "5     6.0\n",
       "6     NaN\n",
       "7     8.0\n",
       "8     NaN\n",
       "9    10.0\n",
       "dtype: float64"
      ]
     },
     "execution_count": 158,
     "metadata": {},
     "output_type": "execute_result"
    }
   ],
   "source": [
    "temp = pd.Series([1,2,3,np.nan,5,6,np.nan,8,np.nan,10])\n",
    "temp"
   ]
  },
  {
   "cell_type": "code",
   "execution_count": 159,
   "id": "ea42cc05-1b46-4681-b189-bba90ff38d65",
   "metadata": {},
   "outputs": [
    {
     "data": {
      "text/plain": [
       "10"
      ]
     },
     "execution_count": 159,
     "metadata": {},
     "output_type": "execute_result"
    }
   ],
   "source": [
    "temp.size"
   ]
  },
  {
   "cell_type": "code",
   "execution_count": 160,
   "id": "81c14f63-3277-4a56-a7c8-52b3c0fa957f",
   "metadata": {},
   "outputs": [
    {
     "data": {
      "text/plain": [
       "np.int64(7)"
      ]
     },
     "execution_count": 160,
     "metadata": {},
     "output_type": "execute_result"
    }
   ],
   "source": [
    "temp.count()"
   ]
  },
  {
   "cell_type": "code",
   "execution_count": 161,
   "id": "0fe7bc7a-a7e3-4129-9066-c259aa210fc9",
   "metadata": {},
   "outputs": [
    {
     "data": {
      "text/plain": [
       "np.int64(3)"
      ]
     },
     "execution_count": 161,
     "metadata": {},
     "output_type": "execute_result"
    }
   ],
   "source": [
    "# isnull\n",
    "temp.isnull().sum()"
   ]
  },
  {
   "cell_type": "code",
   "execution_count": 162,
   "id": "3cb43791-8f9c-49c0-8ea5-22d6ed7290f9",
   "metadata": {},
   "outputs": [
    {
     "data": {
      "text/plain": [
       "0     1.0\n",
       "1     2.0\n",
       "2     3.0\n",
       "4     5.0\n",
       "5     6.0\n",
       "7     8.0\n",
       "9    10.0\n",
       "dtype: float64"
      ]
     },
     "execution_count": 162,
     "metadata": {},
     "output_type": "execute_result"
    }
   ],
   "source": [
    "# dropna\n",
    "temp.dropna()"
   ]
  },
  {
   "cell_type": "code",
   "execution_count": 163,
   "id": "87900a4c-3d56-4500-b4e1-da639df9bf6d",
   "metadata": {},
   "outputs": [
    {
     "data": {
      "text/plain": [
       "0     1.0\n",
       "1     2.0\n",
       "2     3.0\n",
       "3     5.0\n",
       "4     5.0\n",
       "5     6.0\n",
       "6     5.0\n",
       "7     8.0\n",
       "8     5.0\n",
       "9    10.0\n",
       "dtype: float64"
      ]
     },
     "execution_count": 163,
     "metadata": {},
     "output_type": "execute_result"
    }
   ],
   "source": [
    "# fillna\n",
    "temp.fillna(temp.mean())"
   ]
  },
  {
   "cell_type": "code",
   "execution_count": 164,
   "id": "4b83f877-187c-461a-bf10-0e0a3d146bdc",
   "metadata": {},
   "outputs": [
    {
     "data": {
      "text/html": [
       "<div>\n",
       "<style scoped>\n",
       "    .dataframe tbody tr th:only-of-type {\n",
       "        vertical-align: middle;\n",
       "    }\n",
       "\n",
       "    .dataframe tbody tr th {\n",
       "        vertical-align: top;\n",
       "    }\n",
       "\n",
       "    .dataframe thead th {\n",
       "        text-align: right;\n",
       "    }\n",
       "</style>\n",
       "<table border=\"1\" class=\"dataframe\">\n",
       "  <thead>\n",
       "    <tr style=\"text-align: right;\">\n",
       "      <th></th>\n",
       "      <th>runs</th>\n",
       "    </tr>\n",
       "    <tr>\n",
       "      <th>match_no</th>\n",
       "      <th></th>\n",
       "    </tr>\n",
       "  </thead>\n",
       "  <tbody>\n",
       "    <tr>\n",
       "      <th>87</th>\n",
       "      <td>NaN</td>\n",
       "    </tr>\n",
       "    <tr>\n",
       "      <th>211</th>\n",
       "      <td>NaN</td>\n",
       "    </tr>\n",
       "    <tr>\n",
       "      <th>207</th>\n",
       "      <td>NaN</td>\n",
       "    </tr>\n",
       "    <tr>\n",
       "      <th>206</th>\n",
       "      <td>NaN</td>\n",
       "    </tr>\n",
       "    <tr>\n",
       "      <th>91</th>\n",
       "      <td>NaN</td>\n",
       "    </tr>\n",
       "    <tr>\n",
       "      <th>...</th>\n",
       "      <td>...</td>\n",
       "    </tr>\n",
       "    <tr>\n",
       "      <th>164</th>\n",
       "      <td>NaN</td>\n",
       "    </tr>\n",
       "    <tr>\n",
       "      <th>120</th>\n",
       "      <td>NaN</td>\n",
       "    </tr>\n",
       "    <tr>\n",
       "      <th>123</th>\n",
       "      <td>NaN</td>\n",
       "    </tr>\n",
       "    <tr>\n",
       "      <th>126</th>\n",
       "      <td>NaN</td>\n",
       "    </tr>\n",
       "    <tr>\n",
       "      <th>128</th>\n",
       "      <td>NaN</td>\n",
       "    </tr>\n",
       "  </tbody>\n",
       "</table>\n",
       "<p>215 rows × 1 columns</p>\n",
       "</div>"
      ],
      "text/plain": [
       "          runs\n",
       "match_no      \n",
       "87         NaN\n",
       "211        NaN\n",
       "207        NaN\n",
       "206        NaN\n",
       "91         NaN\n",
       "...        ...\n",
       "164        NaN\n",
       "120        NaN\n",
       "123        NaN\n",
       "126        NaN\n",
       "128        NaN\n",
       "\n",
       "[215 rows x 1 columns]"
      ]
     },
     "execution_count": 164,
     "metadata": {},
     "output_type": "execute_result"
    }
   ],
   "source": [
    "# isin\n",
    "vk[(vk == 49) | (vk == 99)]\n"
   ]
  },
  {
   "cell_type": "code",
   "execution_count": 165,
   "id": "f7225d9d-51a0-4a19-9d7c-36b30087f314",
   "metadata": {},
   "outputs": [
    {
     "data": {
      "text/html": [
       "<div>\n",
       "<style scoped>\n",
       "    .dataframe tbody tr th:only-of-type {\n",
       "        vertical-align: middle;\n",
       "    }\n",
       "\n",
       "    .dataframe tbody tr th {\n",
       "        vertical-align: top;\n",
       "    }\n",
       "\n",
       "    .dataframe thead th {\n",
       "        text-align: right;\n",
       "    }\n",
       "</style>\n",
       "<table border=\"1\" class=\"dataframe\">\n",
       "  <thead>\n",
       "    <tr style=\"text-align: right;\">\n",
       "      <th></th>\n",
       "      <th>runs</th>\n",
       "    </tr>\n",
       "    <tr>\n",
       "      <th>match_no</th>\n",
       "      <th></th>\n",
       "    </tr>\n",
       "  </thead>\n",
       "  <tbody>\n",
       "    <tr>\n",
       "      <th>87</th>\n",
       "      <td>NaN</td>\n",
       "    </tr>\n",
       "    <tr>\n",
       "      <th>211</th>\n",
       "      <td>NaN</td>\n",
       "    </tr>\n",
       "    <tr>\n",
       "      <th>207</th>\n",
       "      <td>NaN</td>\n",
       "    </tr>\n",
       "    <tr>\n",
       "      <th>206</th>\n",
       "      <td>NaN</td>\n",
       "    </tr>\n",
       "    <tr>\n",
       "      <th>91</th>\n",
       "      <td>NaN</td>\n",
       "    </tr>\n",
       "    <tr>\n",
       "      <th>...</th>\n",
       "      <td>...</td>\n",
       "    </tr>\n",
       "    <tr>\n",
       "      <th>164</th>\n",
       "      <td>NaN</td>\n",
       "    </tr>\n",
       "    <tr>\n",
       "      <th>120</th>\n",
       "      <td>NaN</td>\n",
       "    </tr>\n",
       "    <tr>\n",
       "      <th>123</th>\n",
       "      <td>NaN</td>\n",
       "    </tr>\n",
       "    <tr>\n",
       "      <th>126</th>\n",
       "      <td>NaN</td>\n",
       "    </tr>\n",
       "    <tr>\n",
       "      <th>128</th>\n",
       "      <td>NaN</td>\n",
       "    </tr>\n",
       "  </tbody>\n",
       "</table>\n",
       "<p>215 rows × 1 columns</p>\n",
       "</div>"
      ],
      "text/plain": [
       "          runs\n",
       "match_no      \n",
       "87         NaN\n",
       "211        NaN\n",
       "207        NaN\n",
       "206        NaN\n",
       "91         NaN\n",
       "...        ...\n",
       "164        NaN\n",
       "120        NaN\n",
       "123        NaN\n",
       "126        NaN\n",
       "128        NaN\n",
       "\n",
       "[215 rows x 1 columns]"
      ]
     },
     "execution_count": 165,
     "metadata": {},
     "output_type": "execute_result"
    }
   ],
   "source": [
    "vk[vk.isin([49,99])]"
   ]
  },
  {
   "cell_type": "code",
   "execution_count": null,
   "id": "64737307-df56-4ca8-af9f-3bd29908ef68",
   "metadata": {},
   "outputs": [],
   "source": []
  },
  {
   "cell_type": "code",
   "execution_count": null,
   "id": "e5c2ce5b-caa9-4a23-8840-6287a573418e",
   "metadata": {},
   "outputs": [],
   "source": []
  },
  {
   "cell_type": "code",
   "execution_count": null,
   "id": "02354599-3340-4878-b33f-7b05681c7de1",
   "metadata": {},
   "outputs": [],
   "source": []
  },
  {
   "cell_type": "code",
   "execution_count": null,
   "id": "4ef4b8f2-2da8-4ff7-87d3-2d64bace1cb6",
   "metadata": {},
   "outputs": [],
   "source": []
  },
  {
   "cell_type": "code",
   "execution_count": null,
   "id": "7c5571ac-d9ee-436a-9428-540f74d3642b",
   "metadata": {},
   "outputs": [],
   "source": []
  },
  {
   "cell_type": "code",
   "execution_count": null,
   "id": "d94e212d-bc00-4a6a-a295-c5539348c584",
   "metadata": {},
   "outputs": [],
   "source": []
  },
  {
   "cell_type": "code",
   "execution_count": null,
   "id": "b65433c6-3940-4209-b6c2-b3406b89eaa5",
   "metadata": {},
   "outputs": [],
   "source": []
  },
  {
   "cell_type": "code",
   "execution_count": null,
   "id": "0bbe7717-8752-4b67-b113-5d7779a50414",
   "metadata": {},
   "outputs": [],
   "source": []
  }
 ],
 "metadata": {
  "kernelspec": {
   "display_name": "Python (base)",
   "language": "python",
   "name": "base"
  },
  "language_info": {
   "codemirror_mode": {
    "name": "ipython",
    "version": 3
   },
   "file_extension": ".py",
   "mimetype": "text/x-python",
   "name": "python",
   "nbconvert_exporter": "python",
   "pygments_lexer": "ipython3",
   "version": "3.13.5"
  }
 },
 "nbformat": 4,
 "nbformat_minor": 5
}
