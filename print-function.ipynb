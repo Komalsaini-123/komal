{
 "cells": [
  {
   "cell_type": "code",
   "execution_count": 1,
   "id": "ecf02503-a5e6-4d5f-a662-80a790648559",
   "metadata": {},
   "outputs": [
    {
     "name": "stdout",
     "output_type": "stream",
     "text": [
      "ram\n"
     ]
    }
   ],
   "source": [
    "name = \"ram\"\n",
    "print(name)"
   ]
  },
  {
   "cell_type": "code",
   "execution_count": 2,
   "id": "2d17b102-26f6-4374-a3a7-8e45b1ab3b0d",
   "metadata": {},
   "outputs": [
    {
     "name": "stdout",
     "output_type": "stream",
     "text": [
      "Hello World\n"
     ]
    }
   ],
   "source": [
    "# Python is Case-Sensitive\n",
    "\n",
    "print(\"Hello World\")"
   ]
  },
  {
   "cell_type": "code",
   "execution_count": 3,
   "id": "1ca9a0ec-9661-4292-9096-ba3e5c1a594a",
   "metadata": {},
   "outputs": [
    {
     "name": "stdout",
     "output_type": "stream",
     "text": [
      "6\n"
     ]
    }
   ],
   "source": [
    "print(6)"
   ]
  },
  {
   "cell_type": "code",
   "execution_count": 4,
   "id": "0fe24561-9494-4e93-b6cf-69b51467ba13",
   "metadata": {},
   "outputs": [
    {
     "name": "stdout",
     "output_type": "stream",
     "text": [
      "5.6\n"
     ]
    }
   ],
   "source": [
    "print(5.6)"
   ]
  },
  {
   "cell_type": "code",
   "execution_count": 5,
   "id": "3e7f5147-71cc-4b09-bc6e-272ea6565b53",
   "metadata": {},
   "outputs": [
    {
     "name": "stdout",
     "output_type": "stream",
     "text": [
      "False\n"
     ]
    }
   ],
   "source": [
    "print(False)"
   ]
  },
  {
   "cell_type": "code",
   "execution_count": 6,
   "id": "34e84d9b-15a3-465f-ac8a-e766d7654565",
   "metadata": {},
   "outputs": [
    {
     "name": "stdout",
     "output_type": "stream",
     "text": [
      "India-Pakistan-Nepal-Srilanka\n"
     ]
    }
   ],
   "source": [
    "print(\"India\", \"Pakistan\", \"Nepal\", \"Srilanka\",sep='-')"
   ]
  },
  {
   "cell_type": "code",
   "execution_count": 7,
   "id": "55048fae-035d-407c-92f2-6a9f0ac7941b",
   "metadata": {},
   "outputs": [
    {
     "name": "stdout",
     "output_type": "stream",
     "text": [
      "India 5 True\n"
     ]
    }
   ],
   "source": [
    "print(\"India\", 5, True)"
   ]
  },
  {
   "cell_type": "code",
   "execution_count": 8,
   "id": "c9cb129a-3b51-480d-865d-65db30e96a0b",
   "metadata": {},
   "outputs": [
    {
     "name": "stdout",
     "output_type": "stream",
     "text": [
      "India Pakistan Nepal Srilanka\n"
     ]
    }
   ],
   "source": [
    "print(\"India\", \"Pakistan\", \"Nepal\", \"Srilanka\", sep=' ')"
   ]
  },
  {
   "cell_type": "code",
   "execution_count": 9,
   "id": "519a94c1-d12f-45c4-82d3-f541b7cf4cc8",
   "metadata": {},
   "outputs": [
    {
     "name": "stdout",
     "output_type": "stream",
     "text": [
      "India-Pakistan-Nepal-Srilanka\n"
     ]
    }
   ],
   "source": [
    "print(\"India\", \"Pakistan\", \"Nepal\", \"Srilanka\", sep='-')"
   ]
  },
  {
   "cell_type": "code",
   "execution_count": 10,
   "id": "1dd1e254-a388-41b0-982d-576579ebaf5f",
   "metadata": {},
   "outputs": [
    {
     "name": "stdout",
     "output_type": "stream",
     "text": [
      "Hello World\n"
     ]
    }
   ],
   "source": [
    "print(\"Hello\",end=\" \")\n",
    "print(\"World\")"
   ]
  },
  {
   "cell_type": "code",
   "execution_count": 11,
   "id": "1370fd7a-8a5b-4d0f-9301-5ca93e13a782",
   "metadata": {},
   "outputs": [
    {
     "name": "stdout",
     "output_type": "stream",
     "text": [
      "Hello World\n"
     ]
    }
   ],
   "source": [
    "print(\"Hello\", end=' ')\n",
    "print(\"World\")"
   ]
  },
  {
   "cell_type": "code",
   "execution_count": null,
   "id": "8850a82e-d341-4ee1-a420-0a902ba1795a",
   "metadata": {},
   "outputs": [],
   "source": []
  },
  {
   "cell_type": "code",
   "execution_count": null,
   "id": "5ec5a0b0-dd12-46c7-afe0-1c2f79a4c666",
   "metadata": {},
   "outputs": [],
   "source": []
  },
  {
   "cell_type": "code",
   "execution_count": null,
   "id": "5f5a893f-a292-49f1-8cc6-e7e7da4a7daa",
   "metadata": {},
   "outputs": [],
   "source": []
  }
 ],
 "metadata": {
  "kernelspec": {
   "display_name": "Python 3 (ipykernel)",
   "language": "python",
   "name": "python3"
  },
  "language_info": {
   "codemirror_mode": {
    "name": "ipython",
    "version": 3
   },
   "file_extension": ".py",
   "mimetype": "text/x-python",
   "name": "python",
   "nbconvert_exporter": "python",
   "pygments_lexer": "ipython3",
   "version": "3.13.5"
  }
 },
 "nbformat": 4,
 "nbformat_minor": 5
}
